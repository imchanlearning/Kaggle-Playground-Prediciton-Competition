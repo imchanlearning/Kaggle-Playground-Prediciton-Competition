{
 "cells": [
  {
   "cell_type": "code",
   "execution_count": 1,
   "id": "1cba1879",
   "metadata": {
    "_cell_guid": "b1076dfc-b9ad-4769-8c92-a6c4dae69d19",
    "_kg_hide-input": true,
    "_uuid": "8f2839f25d086af736a60e9eeb907d3b93b6e0e5",
    "execution": {
     "iopub.execute_input": "2023-12-31T14:33:20.067541Z",
     "iopub.status.busy": "2023-12-31T14:33:20.066882Z",
     "iopub.status.idle": "2023-12-31T14:33:20.896148Z",
     "shell.execute_reply": "2023-12-31T14:33:20.894989Z"
    },
    "papermill": {
     "duration": 0.847615,
     "end_time": "2023-12-31T14:33:20.900724",
     "exception": false,
     "start_time": "2023-12-31T14:33:20.053109",
     "status": "completed"
    },
    "tags": []
   },
   "outputs": [
    {
     "name": "stdout",
     "output_type": "stream",
     "text": [
      "/kaggle/input/cirrhosis-patient-survival-prediction/cirrhosis.csv\n",
      "/kaggle/input/playground-series-s3e26/sample_submission.csv\n",
      "/kaggle/input/playground-series-s3e26/train.csv\n",
      "/kaggle/input/playground-series-s3e26/test.csv\n"
     ]
    }
   ],
   "source": [
    "# This Python 3 environment comes with many helpful analytics libraries installed\n",
    "# It is defined by the kaggle/python Docker image: https://github.com/kaggle/docker-python\n",
    "# For example, here's several helpful packages to load\n",
    "\n",
    "import numpy as np # linear algebra\n",
    "import pandas as pd # data processing, CSV file I/O (e.g. pd.read_csv)\n",
    "\n",
    "# Input data files are available in the read-only \"../input/\" directory\n",
    "# For example, running this (by clicking run or pressing Shift+Enter) will list all files under the input directory\n",
    "\n",
    "import os\n",
    "for dirname, _, filenames in os.walk('/kaggle/input'):\n",
    "    for filename in filenames:\n",
    "        print(os.path.join(dirname, filename))\n",
    "\n",
    "# You can write up to 20GB to the current directory (/kaggle/working/) that gets preserved as output when you create a version using \"Save & Run All\" \n",
    "# You can also write temporary files to /kaggle/temp/, but they won't be saved outside of the current session"
   ]
  },
  {
   "cell_type": "code",
   "execution_count": 2,
   "id": "f6121c04",
   "metadata": {
    "execution": {
     "iopub.execute_input": "2023-12-31T14:33:20.925970Z",
     "iopub.status.busy": "2023-12-31T14:33:20.925463Z",
     "iopub.status.idle": "2023-12-31T14:33:24.370651Z",
     "shell.execute_reply": "2023-12-31T14:33:24.369470Z"
    },
    "papermill": {
     "duration": 3.460721,
     "end_time": "2023-12-31T14:33:24.373362",
     "exception": false,
     "start_time": "2023-12-31T14:33:20.912641",
     "status": "completed"
    },
    "tags": []
   },
   "outputs": [],
   "source": [
    "import pandas as pd\n",
    "import numpy as np\n",
    "import matplotlib.pyplot as plt\n",
    "import seaborn as sns\n",
    "from pathlib import Path\n",
    "from sklearn.model_selection import RepeatedKFold\n",
    "from sklearn.compose import ColumnTransformer\n",
    "from sklearn.impute import SimpleImputer\n",
    "from sklearn.pipeline import Pipeline\n",
    "from sklearn.preprocessing import OneHotEncoder, RobustScaler, LabelEncoder\n",
    "from catboost import CatBoostClassifier\n",
    "from lightgbm import LGBMClassifier\n",
    "from xgboost import XGBClassifier\n",
    "from sklearn.metrics import log_loss"
   ]
  },
  {
   "cell_type": "code",
   "execution_count": 3,
   "id": "ffe2fcf7",
   "metadata": {
    "execution": {
     "iopub.execute_input": "2023-12-31T14:33:24.398422Z",
     "iopub.status.busy": "2023-12-31T14:33:24.398033Z",
     "iopub.status.idle": "2023-12-31T14:33:24.427079Z",
     "shell.execute_reply": "2023-12-31T14:33:24.425973Z"
    },
    "papermill": {
     "duration": 0.044767,
     "end_time": "2023-12-31T14:33:24.429847",
     "exception": false,
     "start_time": "2023-12-31T14:33:24.385080",
     "status": "completed"
    },
    "tags": []
   },
   "outputs": [],
   "source": [
    "path = Path('/kaggle/input/playground-series-s3e26')\n",
    "original_data = pd.read_csv('/kaggle/input/cirrhosis-patient-survival-prediction/cirrhosis.csv')\n",
    "sample_sub = pd.read_csv('/kaggle/input/playground-series-s3e26/sample_submission.csv')"
   ]
  },
  {
   "cell_type": "code",
   "execution_count": 4,
   "id": "fceaa9ca",
   "metadata": {
    "execution": {
     "iopub.execute_input": "2023-12-31T14:33:24.455472Z",
     "iopub.status.busy": "2023-12-31T14:33:24.454679Z",
     "iopub.status.idle": "2023-12-31T14:33:24.553091Z",
     "shell.execute_reply": "2023-12-31T14:33:24.551965Z"
    },
    "papermill": {
     "duration": 0.113857,
     "end_time": "2023-12-31T14:33:24.555606",
     "exception": false,
     "start_time": "2023-12-31T14:33:24.441749",
     "status": "completed"
    },
    "tags": []
   },
   "outputs": [
    {
     "data": {
      "text/html": [
       "<div>\n",
       "<style scoped>\n",
       "    .dataframe tbody tr th:only-of-type {\n",
       "        vertical-align: middle;\n",
       "    }\n",
       "\n",
       "    .dataframe tbody tr th {\n",
       "        vertical-align: top;\n",
       "    }\n",
       "\n",
       "    .dataframe thead th {\n",
       "        text-align: right;\n",
       "    }\n",
       "</style>\n",
       "<table border=\"1\" class=\"dataframe\">\n",
       "  <thead>\n",
       "    <tr style=\"text-align: right;\">\n",
       "      <th></th>\n",
       "      <th>id</th>\n",
       "      <th>N_Days</th>\n",
       "      <th>Drug</th>\n",
       "      <th>Age</th>\n",
       "      <th>Sex</th>\n",
       "      <th>Ascites</th>\n",
       "      <th>Hepatomegaly</th>\n",
       "      <th>Spiders</th>\n",
       "      <th>Edema</th>\n",
       "      <th>Bilirubin</th>\n",
       "      <th>Cholesterol</th>\n",
       "      <th>Albumin</th>\n",
       "      <th>Copper</th>\n",
       "      <th>Alk_Phos</th>\n",
       "      <th>SGOT</th>\n",
       "      <th>Tryglicerides</th>\n",
       "      <th>Platelets</th>\n",
       "      <th>Prothrombin</th>\n",
       "      <th>Stage</th>\n",
       "      <th>Status</th>\n",
       "    </tr>\n",
       "  </thead>\n",
       "  <tbody>\n",
       "    <tr>\n",
       "      <th>0</th>\n",
       "      <td>0</td>\n",
       "      <td>999</td>\n",
       "      <td>D-penicillamine</td>\n",
       "      <td>21532</td>\n",
       "      <td>M</td>\n",
       "      <td>N</td>\n",
       "      <td>N</td>\n",
       "      <td>N</td>\n",
       "      <td>N</td>\n",
       "      <td>2.3</td>\n",
       "      <td>316.0</td>\n",
       "      <td>3.35</td>\n",
       "      <td>172.0</td>\n",
       "      <td>1601.0</td>\n",
       "      <td>179.80</td>\n",
       "      <td>63.0</td>\n",
       "      <td>394.0</td>\n",
       "      <td>9.7</td>\n",
       "      <td>3.0</td>\n",
       "      <td>D</td>\n",
       "    </tr>\n",
       "    <tr>\n",
       "      <th>1</th>\n",
       "      <td>1</td>\n",
       "      <td>2574</td>\n",
       "      <td>Placebo</td>\n",
       "      <td>19237</td>\n",
       "      <td>F</td>\n",
       "      <td>N</td>\n",
       "      <td>N</td>\n",
       "      <td>N</td>\n",
       "      <td>N</td>\n",
       "      <td>0.9</td>\n",
       "      <td>364.0</td>\n",
       "      <td>3.54</td>\n",
       "      <td>63.0</td>\n",
       "      <td>1440.0</td>\n",
       "      <td>134.85</td>\n",
       "      <td>88.0</td>\n",
       "      <td>361.0</td>\n",
       "      <td>11.0</td>\n",
       "      <td>3.0</td>\n",
       "      <td>C</td>\n",
       "    </tr>\n",
       "  </tbody>\n",
       "</table>\n",
       "</div>"
      ],
      "text/plain": [
       "   id  N_Days             Drug    Age Sex Ascites Hepatomegaly Spiders Edema  \\\n",
       "0   0     999  D-penicillamine  21532   M       N            N       N     N   \n",
       "1   1    2574          Placebo  19237   F       N            N       N     N   \n",
       "\n",
       "   Bilirubin  Cholesterol  Albumin  Copper  Alk_Phos    SGOT  Tryglicerides  \\\n",
       "0        2.3        316.0     3.35   172.0    1601.0  179.80           63.0   \n",
       "1        0.9        364.0     3.54    63.0    1440.0  134.85           88.0   \n",
       "\n",
       "   Platelets  Prothrombin  Stage Status  \n",
       "0      394.0          9.7    3.0      D  \n",
       "1      361.0         11.0    3.0      C  "
      ]
     },
     "execution_count": 4,
     "metadata": {},
     "output_type": "execute_result"
    }
   ],
   "source": [
    "train = pd.read_csv(str(path)+'/train.csv')\n",
    "test = pd.read_csv(str(path)+'/test.csv')\n",
    "train.head(2)"
   ]
  },
  {
   "cell_type": "code",
   "execution_count": 5,
   "id": "5bdec743",
   "metadata": {
    "execution": {
     "iopub.execute_input": "2023-12-31T14:33:24.581594Z",
     "iopub.status.busy": "2023-12-31T14:33:24.580839Z",
     "iopub.status.idle": "2023-12-31T14:33:24.603928Z",
     "shell.execute_reply": "2023-12-31T14:33:24.602777Z"
    },
    "papermill": {
     "duration": 0.038936,
     "end_time": "2023-12-31T14:33:24.606400",
     "exception": false,
     "start_time": "2023-12-31T14:33:24.567464",
     "status": "completed"
    },
    "tags": []
   },
   "outputs": [
    {
     "data": {
      "text/html": [
       "<div>\n",
       "<style scoped>\n",
       "    .dataframe tbody tr th:only-of-type {\n",
       "        vertical-align: middle;\n",
       "    }\n",
       "\n",
       "    .dataframe tbody tr th {\n",
       "        vertical-align: top;\n",
       "    }\n",
       "\n",
       "    .dataframe thead th {\n",
       "        text-align: right;\n",
       "    }\n",
       "</style>\n",
       "<table border=\"1\" class=\"dataframe\">\n",
       "  <thead>\n",
       "    <tr style=\"text-align: right;\">\n",
       "      <th></th>\n",
       "      <th>ID</th>\n",
       "      <th>N_Days</th>\n",
       "      <th>Status</th>\n",
       "      <th>Drug</th>\n",
       "      <th>Age</th>\n",
       "      <th>Sex</th>\n",
       "      <th>Ascites</th>\n",
       "      <th>Hepatomegaly</th>\n",
       "      <th>Spiders</th>\n",
       "      <th>Edema</th>\n",
       "      <th>Bilirubin</th>\n",
       "      <th>Cholesterol</th>\n",
       "      <th>Albumin</th>\n",
       "      <th>Copper</th>\n",
       "      <th>Alk_Phos</th>\n",
       "      <th>SGOT</th>\n",
       "      <th>Tryglicerides</th>\n",
       "      <th>Platelets</th>\n",
       "      <th>Prothrombin</th>\n",
       "      <th>Stage</th>\n",
       "    </tr>\n",
       "  </thead>\n",
       "  <tbody>\n",
       "    <tr>\n",
       "      <th>0</th>\n",
       "      <td>1</td>\n",
       "      <td>400</td>\n",
       "      <td>D</td>\n",
       "      <td>D-penicillamine</td>\n",
       "      <td>21464</td>\n",
       "      <td>F</td>\n",
       "      <td>Y</td>\n",
       "      <td>Y</td>\n",
       "      <td>Y</td>\n",
       "      <td>Y</td>\n",
       "      <td>14.5</td>\n",
       "      <td>261.0</td>\n",
       "      <td>2.60</td>\n",
       "      <td>156.0</td>\n",
       "      <td>1718.0</td>\n",
       "      <td>137.95</td>\n",
       "      <td>172.0</td>\n",
       "      <td>190.0</td>\n",
       "      <td>12.2</td>\n",
       "      <td>4.0</td>\n",
       "    </tr>\n",
       "    <tr>\n",
       "      <th>1</th>\n",
       "      <td>2</td>\n",
       "      <td>4500</td>\n",
       "      <td>C</td>\n",
       "      <td>D-penicillamine</td>\n",
       "      <td>20617</td>\n",
       "      <td>F</td>\n",
       "      <td>N</td>\n",
       "      <td>Y</td>\n",
       "      <td>Y</td>\n",
       "      <td>N</td>\n",
       "      <td>1.1</td>\n",
       "      <td>302.0</td>\n",
       "      <td>4.14</td>\n",
       "      <td>54.0</td>\n",
       "      <td>7394.8</td>\n",
       "      <td>113.52</td>\n",
       "      <td>88.0</td>\n",
       "      <td>221.0</td>\n",
       "      <td>10.6</td>\n",
       "      <td>3.0</td>\n",
       "    </tr>\n",
       "  </tbody>\n",
       "</table>\n",
       "</div>"
      ],
      "text/plain": [
       "   ID  N_Days Status             Drug    Age Sex Ascites Hepatomegaly Spiders  \\\n",
       "0   1     400      D  D-penicillamine  21464   F       Y            Y       Y   \n",
       "1   2    4500      C  D-penicillamine  20617   F       N            Y       Y   \n",
       "\n",
       "  Edema  Bilirubin  Cholesterol  Albumin  Copper  Alk_Phos    SGOT  \\\n",
       "0     Y       14.5        261.0     2.60   156.0    1718.0  137.95   \n",
       "1     N        1.1        302.0     4.14    54.0    7394.8  113.52   \n",
       "\n",
       "   Tryglicerides  Platelets  Prothrombin  Stage  \n",
       "0          172.0      190.0         12.2    4.0  \n",
       "1           88.0      221.0         10.6    3.0  "
      ]
     },
     "execution_count": 5,
     "metadata": {},
     "output_type": "execute_result"
    }
   ],
   "source": [
    "original_data.head(2)"
   ]
  },
  {
   "cell_type": "code",
   "execution_count": 6,
   "id": "9a69b90a",
   "metadata": {
    "execution": {
     "iopub.execute_input": "2023-12-31T14:33:24.633059Z",
     "iopub.status.busy": "2023-12-31T14:33:24.632005Z",
     "iopub.status.idle": "2023-12-31T14:33:24.650939Z",
     "shell.execute_reply": "2023-12-31T14:33:24.649829Z"
    },
    "papermill": {
     "duration": 0.034987,
     "end_time": "2023-12-31T14:33:24.653557",
     "exception": false,
     "start_time": "2023-12-31T14:33:24.618570",
     "status": "completed"
    },
    "tags": []
   },
   "outputs": [],
   "source": [
    "train = pd.concat([original_data.drop('ID',axis=1),train.drop('id',axis=1)])"
   ]
  },
  {
   "cell_type": "code",
   "execution_count": 7,
   "id": "b5557586",
   "metadata": {
    "execution": {
     "iopub.execute_input": "2023-12-31T14:33:24.680175Z",
     "iopub.status.busy": "2023-12-31T14:33:24.679377Z",
     "iopub.status.idle": "2023-12-31T14:33:24.706427Z",
     "shell.execute_reply": "2023-12-31T14:33:24.705289Z"
    },
    "papermill": {
     "duration": 0.04313,
     "end_time": "2023-12-31T14:33:24.708949",
     "exception": false,
     "start_time": "2023-12-31T14:33:24.665819",
     "status": "completed"
    },
    "tags": []
   },
   "outputs": [
    {
     "data": {
      "text/html": [
       "<div>\n",
       "<style scoped>\n",
       "    .dataframe tbody tr th:only-of-type {\n",
       "        vertical-align: middle;\n",
       "    }\n",
       "\n",
       "    .dataframe tbody tr th {\n",
       "        vertical-align: top;\n",
       "    }\n",
       "\n",
       "    .dataframe thead th {\n",
       "        text-align: right;\n",
       "    }\n",
       "</style>\n",
       "<table border=\"1\" class=\"dataframe\">\n",
       "  <thead>\n",
       "    <tr style=\"text-align: right;\">\n",
       "      <th></th>\n",
       "      <th>N_Days</th>\n",
       "      <th>Status</th>\n",
       "      <th>Drug</th>\n",
       "      <th>Age</th>\n",
       "      <th>Sex</th>\n",
       "      <th>Ascites</th>\n",
       "      <th>Hepatomegaly</th>\n",
       "      <th>Spiders</th>\n",
       "      <th>Edema</th>\n",
       "      <th>Bilirubin</th>\n",
       "      <th>Cholesterol</th>\n",
       "      <th>Albumin</th>\n",
       "      <th>Copper</th>\n",
       "      <th>Alk_Phos</th>\n",
       "      <th>SGOT</th>\n",
       "      <th>Tryglicerides</th>\n",
       "      <th>Platelets</th>\n",
       "      <th>Prothrombin</th>\n",
       "      <th>Stage</th>\n",
       "    </tr>\n",
       "  </thead>\n",
       "  <tbody>\n",
       "    <tr>\n",
       "      <th>0</th>\n",
       "      <td>400</td>\n",
       "      <td>D</td>\n",
       "      <td>D-penicillamine</td>\n",
       "      <td>21464</td>\n",
       "      <td>F</td>\n",
       "      <td>Y</td>\n",
       "      <td>Y</td>\n",
       "      <td>Y</td>\n",
       "      <td>Y</td>\n",
       "      <td>14.5</td>\n",
       "      <td>261.0</td>\n",
       "      <td>2.60</td>\n",
       "      <td>156.0</td>\n",
       "      <td>1718.0</td>\n",
       "      <td>137.95</td>\n",
       "      <td>172.0</td>\n",
       "      <td>190.0</td>\n",
       "      <td>12.2</td>\n",
       "      <td>4.0</td>\n",
       "    </tr>\n",
       "    <tr>\n",
       "      <th>1</th>\n",
       "      <td>4500</td>\n",
       "      <td>C</td>\n",
       "      <td>D-penicillamine</td>\n",
       "      <td>20617</td>\n",
       "      <td>F</td>\n",
       "      <td>N</td>\n",
       "      <td>Y</td>\n",
       "      <td>Y</td>\n",
       "      <td>N</td>\n",
       "      <td>1.1</td>\n",
       "      <td>302.0</td>\n",
       "      <td>4.14</td>\n",
       "      <td>54.0</td>\n",
       "      <td>7394.8</td>\n",
       "      <td>113.52</td>\n",
       "      <td>88.0</td>\n",
       "      <td>221.0</td>\n",
       "      <td>10.6</td>\n",
       "      <td>3.0</td>\n",
       "    </tr>\n",
       "    <tr>\n",
       "      <th>2</th>\n",
       "      <td>1012</td>\n",
       "      <td>D</td>\n",
       "      <td>D-penicillamine</td>\n",
       "      <td>25594</td>\n",
       "      <td>M</td>\n",
       "      <td>N</td>\n",
       "      <td>N</td>\n",
       "      <td>N</td>\n",
       "      <td>S</td>\n",
       "      <td>1.4</td>\n",
       "      <td>176.0</td>\n",
       "      <td>3.48</td>\n",
       "      <td>210.0</td>\n",
       "      <td>516.0</td>\n",
       "      <td>96.10</td>\n",
       "      <td>55.0</td>\n",
       "      <td>151.0</td>\n",
       "      <td>12.0</td>\n",
       "      <td>4.0</td>\n",
       "    </tr>\n",
       "    <tr>\n",
       "      <th>3</th>\n",
       "      <td>1925</td>\n",
       "      <td>D</td>\n",
       "      <td>D-penicillamine</td>\n",
       "      <td>19994</td>\n",
       "      <td>F</td>\n",
       "      <td>N</td>\n",
       "      <td>Y</td>\n",
       "      <td>Y</td>\n",
       "      <td>S</td>\n",
       "      <td>1.8</td>\n",
       "      <td>244.0</td>\n",
       "      <td>2.54</td>\n",
       "      <td>64.0</td>\n",
       "      <td>6121.8</td>\n",
       "      <td>60.63</td>\n",
       "      <td>92.0</td>\n",
       "      <td>183.0</td>\n",
       "      <td>10.3</td>\n",
       "      <td>4.0</td>\n",
       "    </tr>\n",
       "    <tr>\n",
       "      <th>4</th>\n",
       "      <td>1504</td>\n",
       "      <td>CL</td>\n",
       "      <td>Placebo</td>\n",
       "      <td>13918</td>\n",
       "      <td>F</td>\n",
       "      <td>N</td>\n",
       "      <td>Y</td>\n",
       "      <td>Y</td>\n",
       "      <td>N</td>\n",
       "      <td>3.4</td>\n",
       "      <td>279.0</td>\n",
       "      <td>3.53</td>\n",
       "      <td>143.0</td>\n",
       "      <td>671.0</td>\n",
       "      <td>113.15</td>\n",
       "      <td>72.0</td>\n",
       "      <td>136.0</td>\n",
       "      <td>10.9</td>\n",
       "      <td>3.0</td>\n",
       "    </tr>\n",
       "  </tbody>\n",
       "</table>\n",
       "</div>"
      ],
      "text/plain": [
       "   N_Days Status             Drug    Age Sex Ascites Hepatomegaly Spiders  \\\n",
       "0     400      D  D-penicillamine  21464   F       Y            Y       Y   \n",
       "1    4500      C  D-penicillamine  20617   F       N            Y       Y   \n",
       "2    1012      D  D-penicillamine  25594   M       N            N       N   \n",
       "3    1925      D  D-penicillamine  19994   F       N            Y       Y   \n",
       "4    1504     CL          Placebo  13918   F       N            Y       Y   \n",
       "\n",
       "  Edema  Bilirubin  Cholesterol  Albumin  Copper  Alk_Phos    SGOT  \\\n",
       "0     Y       14.5        261.0     2.60   156.0    1718.0  137.95   \n",
       "1     N        1.1        302.0     4.14    54.0    7394.8  113.52   \n",
       "2     S        1.4        176.0     3.48   210.0     516.0   96.10   \n",
       "3     S        1.8        244.0     2.54    64.0    6121.8   60.63   \n",
       "4     N        3.4        279.0     3.53   143.0     671.0  113.15   \n",
       "\n",
       "   Tryglicerides  Platelets  Prothrombin  Stage  \n",
       "0          172.0      190.0         12.2    4.0  \n",
       "1           88.0      221.0         10.6    3.0  \n",
       "2           55.0      151.0         12.0    4.0  \n",
       "3           92.0      183.0         10.3    4.0  \n",
       "4           72.0      136.0         10.9    3.0  "
      ]
     },
     "execution_count": 7,
     "metadata": {},
     "output_type": "execute_result"
    }
   ],
   "source": [
    "train.head()"
   ]
  },
  {
   "cell_type": "code",
   "execution_count": 8,
   "id": "a8d09856",
   "metadata": {
    "execution": {
     "iopub.execute_input": "2023-12-31T14:33:24.736184Z",
     "iopub.status.busy": "2023-12-31T14:33:24.735369Z",
     "iopub.status.idle": "2023-12-31T14:33:24.741019Z",
     "shell.execute_reply": "2023-12-31T14:33:24.740242Z"
    },
    "papermill": {
     "duration": 0.021756,
     "end_time": "2023-12-31T14:33:24.743264",
     "exception": false,
     "start_time": "2023-12-31T14:33:24.721508",
     "status": "completed"
    },
    "tags": []
   },
   "outputs": [],
   "source": [
    "train.columns =  map(str.lower,train.columns)\n",
    "test.columns =  map(str.lower,test.columns)"
   ]
  },
  {
   "cell_type": "code",
   "execution_count": 9,
   "id": "ef93c810",
   "metadata": {
    "_kg_hide-input": true,
    "execution": {
     "iopub.execute_input": "2023-12-31T14:33:24.770945Z",
     "iopub.status.busy": "2023-12-31T14:33:24.770126Z",
     "iopub.status.idle": "2023-12-31T14:33:24.793843Z",
     "shell.execute_reply": "2023-12-31T14:33:24.792563Z"
    },
    "papermill": {
     "duration": 0.040627,
     "end_time": "2023-12-31T14:33:24.796307",
     "exception": false,
     "start_time": "2023-12-31T14:33:24.755680",
     "status": "completed"
    },
    "tags": []
   },
   "outputs": [
    {
     "data": {
      "text/plain": [
       "drug               2\n",
       "sex                2\n",
       "ascites            2\n",
       "hepatomegaly       2\n",
       "spiders            2\n",
       "status             3\n",
       "edema              3\n",
       "stage              4\n",
       "prothrombin       50\n",
       "bilirubin        117\n",
       "tryglicerides    154\n",
       "albumin          167\n",
       "copper           171\n",
       "sgot             206\n",
       "cholesterol      227\n",
       "platelets        252\n",
       "alk_phos         364\n",
       "age              397\n",
       "n_days           495\n",
       "dtype: int64"
      ]
     },
     "execution_count": 9,
     "metadata": {},
     "output_type": "execute_result"
    }
   ],
   "source": [
    "train[train.columns].nunique().sort_values(ascending=True)"
   ]
  },
  {
   "cell_type": "code",
   "execution_count": 10,
   "id": "cc229458",
   "metadata": {
    "execution": {
     "iopub.execute_input": "2023-12-31T14:33:24.825552Z",
     "iopub.status.busy": "2023-12-31T14:33:24.824739Z",
     "iopub.status.idle": "2023-12-31T14:33:24.836604Z",
     "shell.execute_reply": "2023-12-31T14:33:24.835470Z"
    },
    "papermill": {
     "duration": 0.028817,
     "end_time": "2023-12-31T14:33:24.839113",
     "exception": false,
     "start_time": "2023-12-31T14:33:24.810296",
     "status": "completed"
    },
    "tags": []
   },
   "outputs": [
    {
     "data": {
      "text/plain": [
       "status\n",
       "C     5197\n",
       "D     2826\n",
       "CL     300\n",
       "Name: count, dtype: int64"
      ]
     },
     "execution_count": 10,
     "metadata": {},
     "output_type": "execute_result"
    }
   ],
   "source": [
    "train['status'].value_counts()"
   ]
  },
  {
   "cell_type": "code",
   "execution_count": 11,
   "id": "b32c6d6e",
   "metadata": {
    "execution": {
     "iopub.execute_input": "2023-12-31T14:33:24.868052Z",
     "iopub.status.busy": "2023-12-31T14:33:24.866959Z",
     "iopub.status.idle": "2023-12-31T14:33:25.195223Z",
     "shell.execute_reply": "2023-12-31T14:33:25.194066Z"
    },
    "papermill": {
     "duration": 0.345294,
     "end_time": "2023-12-31T14:33:25.198012",
     "exception": false,
     "start_time": "2023-12-31T14:33:24.852718",
     "status": "completed"
    },
    "tags": []
   },
   "outputs": [
    {
     "data": {
      "image/png": "[encoded data removed]",
      "text/plain": [
       "<Figure size 640x480 with 1 Axes>"
      ]
     },
     "metadata": {},
     "output_type": "display_data"
    }
   ],
   "source": [
    "sns.countplot(data=train,x='sex',hue='status',color='blue')\n",
    "plt.ylabel('count')\n",
    "plt.xlabel('Sex')\n",
    "plt.show()"
   ]
  },
  {
   "cell_type": "code",
   "execution_count": 12,
   "id": "cb0ffd34",
   "metadata": {
    "execution": {
     "iopub.execute_input": "2023-12-31T14:33:25.226742Z",
     "iopub.status.busy": "2023-12-31T14:33:25.225990Z",
     "iopub.status.idle": "2023-12-31T14:33:25.249414Z",
     "shell.execute_reply": "2023-12-31T14:33:25.248357Z"
    },
    "papermill": {
     "duration": 0.041199,
     "end_time": "2023-12-31T14:33:25.252755",
     "exception": false,
     "start_time": "2023-12-31T14:33:25.211556",
     "status": "completed"
    },
    "tags": []
   },
   "outputs": [
    {
     "data": {
      "text/html": [
       "<div>\n",
       "<style scoped>\n",
       "    .dataframe tbody tr th:only-of-type {\n",
       "        vertical-align: middle;\n",
       "    }\n",
       "\n",
       "    .dataframe tbody tr th {\n",
       "        vertical-align: top;\n",
       "    }\n",
       "\n",
       "    .dataframe thead th {\n",
       "        text-align: right;\n",
       "    }\n",
       "</style>\n",
       "<table border=\"1\" class=\"dataframe\">\n",
       "  <thead>\n",
       "    <tr style=\"text-align: right;\">\n",
       "      <th></th>\n",
       "      <th>n_days</th>\n",
       "      <th>status</th>\n",
       "      <th>drug</th>\n",
       "      <th>age</th>\n",
       "      <th>sex</th>\n",
       "      <th>ascites</th>\n",
       "      <th>hepatomegaly</th>\n",
       "      <th>spiders</th>\n",
       "      <th>edema</th>\n",
       "      <th>bilirubin</th>\n",
       "      <th>cholesterol</th>\n",
       "      <th>albumin</th>\n",
       "      <th>copper</th>\n",
       "      <th>alk_phos</th>\n",
       "      <th>sgot</th>\n",
       "      <th>tryglicerides</th>\n",
       "      <th>platelets</th>\n",
       "      <th>prothrombin</th>\n",
       "      <th>stage</th>\n",
       "    </tr>\n",
       "  </thead>\n",
       "  <tbody>\n",
       "    <tr>\n",
       "      <th>0</th>\n",
       "      <td>400</td>\n",
       "      <td>D</td>\n",
       "      <td>D-penicillamine</td>\n",
       "      <td>21464</td>\n",
       "      <td>F</td>\n",
       "      <td>Y</td>\n",
       "      <td>Y</td>\n",
       "      <td>Y</td>\n",
       "      <td>Y</td>\n",
       "      <td>14.5</td>\n",
       "      <td>261.0</td>\n",
       "      <td>2.60</td>\n",
       "      <td>156.0</td>\n",
       "      <td>1718.0</td>\n",
       "      <td>137.95</td>\n",
       "      <td>172.0</td>\n",
       "      <td>190.0</td>\n",
       "      <td>12.2</td>\n",
       "      <td>4.0</td>\n",
       "    </tr>\n",
       "    <tr>\n",
       "      <th>1</th>\n",
       "      <td>4500</td>\n",
       "      <td>C</td>\n",
       "      <td>D-penicillamine</td>\n",
       "      <td>20617</td>\n",
       "      <td>F</td>\n",
       "      <td>N</td>\n",
       "      <td>Y</td>\n",
       "      <td>Y</td>\n",
       "      <td>N</td>\n",
       "      <td>1.1</td>\n",
       "      <td>302.0</td>\n",
       "      <td>4.14</td>\n",
       "      <td>54.0</td>\n",
       "      <td>7394.8</td>\n",
       "      <td>113.52</td>\n",
       "      <td>88.0</td>\n",
       "      <td>221.0</td>\n",
       "      <td>10.6</td>\n",
       "      <td>3.0</td>\n",
       "    </tr>\n",
       "  </tbody>\n",
       "</table>\n",
       "</div>"
      ],
      "text/plain": [
       "   n_days status             drug    age sex ascites hepatomegaly spiders  \\\n",
       "0     400      D  D-penicillamine  21464   F       Y            Y       Y   \n",
       "1    4500      C  D-penicillamine  20617   F       N            Y       Y   \n",
       "\n",
       "  edema  bilirubin  cholesterol  albumin  copper  alk_phos    sgot  \\\n",
       "0     Y       14.5        261.0     2.60   156.0    1718.0  137.95   \n",
       "1     N        1.1        302.0     4.14    54.0    7394.8  113.52   \n",
       "\n",
       "   tryglicerides  platelets  prothrombin  stage  \n",
       "0          172.0      190.0         12.2    4.0  \n",
       "1           88.0      221.0         10.6    3.0  "
      ]
     },
     "execution_count": 12,
     "metadata": {},
     "output_type": "execute_result"
    }
   ],
   "source": [
    "train.head(2)"
   ]
  },
  {
   "cell_type": "code",
   "execution_count": 13,
   "id": "3f5fbcb7",
   "metadata": {
    "execution": {
     "iopub.execute_input": "2023-12-31T14:33:25.282035Z",
     "iopub.status.busy": "2023-12-31T14:33:25.281657Z",
     "iopub.status.idle": "2023-12-31T14:33:25.297308Z",
     "shell.execute_reply": "2023-12-31T14:33:25.296140Z"
    },
    "papermill": {
     "duration": 0.033373,
     "end_time": "2023-12-31T14:33:25.299713",
     "exception": false,
     "start_time": "2023-12-31T14:33:25.266340",
     "status": "completed"
    },
    "tags": []
   },
   "outputs": [
    {
     "data": {
      "text/plain": [
       "n_days             0\n",
       "status             0\n",
       "drug             106\n",
       "age                0\n",
       "sex                0\n",
       "ascites          106\n",
       "hepatomegaly     106\n",
       "spiders          106\n",
       "edema              0\n",
       "bilirubin          0\n",
       "cholesterol      134\n",
       "albumin            0\n",
       "copper           108\n",
       "alk_phos         106\n",
       "sgot             106\n",
       "tryglicerides    136\n",
       "platelets         11\n",
       "prothrombin        2\n",
       "stage              6\n",
       "dtype: int64"
      ]
     },
     "execution_count": 13,
     "metadata": {},
     "output_type": "execute_result"
    }
   ],
   "source": [
    "train.isnull().sum()"
   ]
  },
  {
   "cell_type": "code",
   "execution_count": 14,
   "id": "8bc8aca8",
   "metadata": {
    "execution": {
     "iopub.execute_input": "2023-12-31T14:33:25.328985Z",
     "iopub.status.busy": "2023-12-31T14:33:25.328559Z",
     "iopub.status.idle": "2023-12-31T14:33:25.341595Z",
     "shell.execute_reply": "2023-12-31T14:33:25.340679Z"
    },
    "papermill": {
     "duration": 0.030728,
     "end_time": "2023-12-31T14:33:25.344032",
     "exception": false,
     "start_time": "2023-12-31T14:33:25.313304",
     "status": "completed"
    },
    "tags": []
   },
   "outputs": [
    {
     "data": {
      "text/plain": [
       "id               0\n",
       "n_days           0\n",
       "drug             0\n",
       "age              0\n",
       "sex              0\n",
       "ascites          0\n",
       "hepatomegaly     0\n",
       "spiders          0\n",
       "edema            0\n",
       "bilirubin        0\n",
       "cholesterol      0\n",
       "albumin          0\n",
       "copper           0\n",
       "alk_phos         0\n",
       "sgot             0\n",
       "tryglicerides    0\n",
       "platelets        0\n",
       "prothrombin      0\n",
       "stage            0\n",
       "dtype: int64"
      ]
     },
     "execution_count": 14,
     "metadata": {},
     "output_type": "execute_result"
    }
   ],
   "source": [
    "test.isnull().sum()"
   ]
  },
  {
   "cell_type": "code",
   "execution_count": 15,
   "id": "a32b7b02",
   "metadata": {
    "execution": {
     "iopub.execute_input": "2023-12-31T14:33:25.374024Z",
     "iopub.status.busy": "2023-12-31T14:33:25.373566Z",
     "iopub.status.idle": "2023-12-31T14:33:25.379910Z",
     "shell.execute_reply": "2023-12-31T14:33:25.378720Z"
    },
    "papermill": {
     "duration": 0.024453,
     "end_time": "2023-12-31T14:33:25.382413",
     "exception": false,
     "start_time": "2023-12-31T14:33:25.357960",
     "status": "completed"
    },
    "tags": []
   },
   "outputs": [],
   "source": [
    "categ_cols = [\"drug\", \"sex\", \"ascites\", \"hepatomegaly\", \"spiders\", \"edema\", \"stage\"]\n",
    "numeric_cols = [x for x in train.columns if x not in categ_cols + ['status']]\n",
    "target_col = 'status'"
   ]
  },
  {
   "cell_type": "code",
   "execution_count": 16,
   "id": "0465ec8a",
   "metadata": {
    "execution": {
     "iopub.execute_input": "2023-12-31T14:33:25.412069Z",
     "iopub.status.busy": "2023-12-31T14:33:25.411647Z",
     "iopub.status.idle": "2023-12-31T14:33:25.743509Z",
     "shell.execute_reply": "2023-12-31T14:33:25.742542Z"
    },
    "papermill": {
     "duration": 0.349698,
     "end_time": "2023-12-31T14:33:25.746275",
     "exception": false,
     "start_time": "2023-12-31T14:33:25.396577",
     "status": "completed"
    },
    "tags": []
   },
   "outputs": [],
   "source": [
    "from sklearn.impute import KNNImputer\n",
    "from sklearn.impute import SimpleImputer\n",
    "\n",
    "knn_imputer = KNNImputer()\n",
    "train[numeric_cols] = knn_imputer.fit_transform(train[numeric_cols])\n",
    "test[numeric_cols] = knn_imputer.fit_transform(test[numeric_cols])\n",
    "\n",
    "categorical_imputer = SimpleImputer(strategy='most_frequent')\n",
    "train[categ_cols] = categorical_imputer.fit_transform(train[categ_cols])\n",
    "test[categ_cols] = categorical_imputer.fit_transform(test[categ_cols])\n"
   ]
  },
  {
   "cell_type": "code",
   "execution_count": 17,
   "id": "a36e71bd",
   "metadata": {
    "execution": {
     "iopub.execute_input": "2023-12-31T14:33:25.775990Z",
     "iopub.status.busy": "2023-12-31T14:33:25.775586Z",
     "iopub.status.idle": "2023-12-31T14:33:25.782710Z",
     "shell.execute_reply": "2023-12-31T14:33:25.781523Z"
    },
    "papermill": {
     "duration": 0.02434,
     "end_time": "2023-12-31T14:33:25.784931",
     "exception": false,
     "start_time": "2023-12-31T14:33:25.760591",
     "status": "completed"
    },
    "tags": []
   },
   "outputs": [],
   "source": [
    "def date_feat(df):\n",
    "    \n",
    "    df['n_days']= pd.to_datetime(df['n_days'])\n",
    "    df['day_of_week'] = df['n_days'].dt.day_name()\n",
    "    df['month']= df['n_days'].dt.month\n",
    "    df['year']= df['n_days'].dt.year\n",
    "    df['n_days']= df['n_days'].astype('int64')\n",
    "    \n",
    "    return df"
   ]
  },
  {
   "cell_type": "code",
   "execution_count": 18,
   "id": "149776da",
   "metadata": {
    "execution": {
     "iopub.execute_input": "2023-12-31T14:33:25.814807Z",
     "iopub.status.busy": "2023-12-31T14:33:25.814415Z",
     "iopub.status.idle": "2023-12-31T14:33:25.844197Z",
     "shell.execute_reply": "2023-12-31T14:33:25.843197Z"
    },
    "papermill": {
     "duration": 0.048047,
     "end_time": "2023-12-31T14:33:25.846927",
     "exception": false,
     "start_time": "2023-12-31T14:33:25.798880",
     "status": "completed"
    },
    "tags": []
   },
   "outputs": [],
   "source": [
    "train = date_feat(train)\n",
    "test = date_feat(test)"
   ]
  },
  {
   "cell_type": "code",
   "execution_count": 19,
   "id": "770d0f9b",
   "metadata": {
    "execution": {
     "iopub.execute_input": "2023-12-31T14:33:25.877463Z",
     "iopub.status.busy": "2023-12-31T14:33:25.876253Z",
     "iopub.status.idle": "2023-12-31T14:33:25.888759Z",
     "shell.execute_reply": "2023-12-31T14:33:25.887588Z"
    },
    "papermill": {
     "duration": 0.03027,
     "end_time": "2023-12-31T14:33:25.891409",
     "exception": false,
     "start_time": "2023-12-31T14:33:25.861139",
     "status": "completed"
    },
    "tags": []
   },
   "outputs": [],
   "source": [
    "train_df=train.copy()\n",
    "test_df = test.copy()"
   ]
  },
  {
   "cell_type": "code",
   "execution_count": 20,
   "id": "c299f0ad",
   "metadata": {
    "execution": {
     "iopub.execute_input": "2023-12-31T14:33:25.921317Z",
     "iopub.status.busy": "2023-12-31T14:33:25.920888Z",
     "iopub.status.idle": "2023-12-31T14:33:25.926749Z",
     "shell.execute_reply": "2023-12-31T14:33:25.925681Z"
    },
    "papermill": {
     "duration": 0.023455,
     "end_time": "2023-12-31T14:33:25.929305",
     "exception": false,
     "start_time": "2023-12-31T14:33:25.905850",
     "status": "completed"
    },
    "tags": []
   },
   "outputs": [
    {
     "name": "stdout",
     "output_type": "stream",
     "text": [
      "X_train shape: (8323, 22)\n",
      "X_test shape: (5271, 22)\n"
     ]
    }
   ],
   "source": [
    "print('X_train shape: {}'.format(train_df.shape))\n",
    "print('X_test shape: {}'.format(test_df.shape))"
   ]
  },
  {
   "cell_type": "code",
   "execution_count": 21,
   "id": "62eb54e6",
   "metadata": {
    "execution": {
     "iopub.execute_input": "2023-12-31T14:33:25.959145Z",
     "iopub.status.busy": "2023-12-31T14:33:25.958709Z",
     "iopub.status.idle": "2023-12-31T14:33:25.972183Z",
     "shell.execute_reply": "2023-12-31T14:33:25.971086Z"
    },
    "papermill": {
     "duration": 0.031221,
     "end_time": "2023-12-31T14:33:25.974837",
     "exception": false,
     "start_time": "2023-12-31T14:33:25.943616",
     "status": "completed"
    },
    "tags": []
   },
   "outputs": [],
   "source": [
    "from sklearn.preprocessing import OneHotEncoder\n",
    "\n",
    "encoder = OneHotEncoder(sparse_output=False,handle_unknown='ignore').fit(train_df[categ_cols])\n",
    "encoder_cols = list(encoder.get_feature_names_out(categ_cols))"
   ]
  },
  {
   "cell_type": "code",
   "execution_count": 22,
   "id": "738be4f2",
   "metadata": {
    "execution": {
     "iopub.execute_input": "2023-12-31T14:33:26.004995Z",
     "iopub.status.busy": "2023-12-31T14:33:26.004251Z",
     "iopub.status.idle": "2023-12-31T14:33:26.062915Z",
     "shell.execute_reply": "2023-12-31T14:33:26.061850Z"
    },
    "papermill": {
     "duration": 0.076935,
     "end_time": "2023-12-31T14:33:26.065728",
     "exception": false,
     "start_time": "2023-12-31T14:33:25.988793",
     "status": "completed"
    },
    "tags": []
   },
   "outputs": [],
   "source": [
    "train_df[encoder_cols] = encoder.transform(train_df[categ_cols]) \n",
    "test_df[encoder_cols] = encoder.transform(test_df[categ_cols]) "
   ]
  },
  {
   "cell_type": "code",
   "execution_count": 23,
   "id": "1e121b79",
   "metadata": {
    "execution": {
     "iopub.execute_input": "2023-12-31T14:33:26.162041Z",
     "iopub.status.busy": "2023-12-31T14:33:26.160968Z",
     "iopub.status.idle": "2023-12-31T14:33:26.172592Z",
     "shell.execute_reply": "2023-12-31T14:33:26.171465Z"
    },
    "papermill": {
     "duration": 0.031731,
     "end_time": "2023-12-31T14:33:26.175161",
     "exception": false,
     "start_time": "2023-12-31T14:33:26.143430",
     "status": "completed"
    },
    "tags": []
   },
   "outputs": [],
   "source": [
    "from sklearn.preprocessing import LabelEncoder\n",
    "\n",
    "label_encoder = LabelEncoder()    \n",
    "train_df[target_col] = label_encoder.fit_transform(train_df[target_col])"
   ]
  },
  {
   "cell_type": "code",
   "execution_count": 24,
   "id": "69d7be3f",
   "metadata": {
    "execution": {
     "iopub.execute_input": "2023-12-31T14:33:26.207936Z",
     "iopub.status.busy": "2023-12-31T14:33:26.207326Z",
     "iopub.status.idle": "2023-12-31T14:33:26.233444Z",
     "shell.execute_reply": "2023-12-31T14:33:26.232174Z"
    },
    "papermill": {
     "duration": 0.046371,
     "end_time": "2023-12-31T14:33:26.236414",
     "exception": false,
     "start_time": "2023-12-31T14:33:26.190043",
     "status": "completed"
    },
    "tags": []
   },
   "outputs": [],
   "source": [
    "from sklearn.preprocessing import StandardScaler\n",
    "\n",
    "scaler = StandardScaler().fit(train_df[numeric_cols])\n",
    "train_df[numeric_cols] = scaler.fit_transform( train_df[numeric_cols])\n",
    "test_df[numeric_cols] = scaler.fit_transform( test_df[numeric_cols])"
   ]
  },
  {
   "cell_type": "code",
   "execution_count": 25,
   "id": "482b8da8",
   "metadata": {
    "execution": {
     "iopub.execute_input": "2023-12-31T14:33:26.267782Z",
     "iopub.status.busy": "2023-12-31T14:33:26.267047Z",
     "iopub.status.idle": "2023-12-31T14:33:26.277918Z",
     "shell.execute_reply": "2023-12-31T14:33:26.276774Z"
    },
    "papermill": {
     "duration": 0.030036,
     "end_time": "2023-12-31T14:33:26.280701",
     "exception": false,
     "start_time": "2023-12-31T14:33:26.250665",
     "status": "completed"
    },
    "tags": []
   },
   "outputs": [],
   "source": [
    "X= train_df[numeric_cols+encoder_cols]\n",
    "X_test = test_df[numeric_cols+encoder_cols]\n",
    "y = train_df[target_col]"
   ]
  },
  {
   "cell_type": "markdown",
   "id": "dbeb09ad",
   "metadata": {
    "papermill": {
     "duration": 0.013606,
     "end_time": "2023-12-31T14:33:26.308380",
     "exception": false,
     "start_time": "2023-12-31T14:33:26.294774",
     "status": "completed"
    },
    "tags": []
   },
   "source": [
    "# Baseline Model"
   ]
  },
  {
   "cell_type": "code",
   "execution_count": 26,
   "id": "84748c25",
   "metadata": {
    "execution": {
     "iopub.execute_input": "2023-12-31T14:33:26.338799Z",
     "iopub.status.busy": "2023-12-31T14:33:26.338360Z",
     "iopub.status.idle": "2023-12-31T14:33:26.344047Z",
     "shell.execute_reply": "2023-12-31T14:33:26.342988Z"
    },
    "papermill": {
     "duration": 0.022955,
     "end_time": "2023-12-31T14:33:26.346170",
     "exception": false,
     "start_time": "2023-12-31T14:33:26.323215",
     "status": "completed"
    },
    "tags": []
   },
   "outputs": [],
   "source": [
    "from xgboost import XGBClassifier\n",
    "import lightgbm as lgb\n",
    "from lightgbm import LGBMClassifier\n",
    "from sklearn.metrics import log_loss\n",
    "from sklearn.model_selection import cross_val_score\n",
    "from sklearn.model_selection import train_test_split"
   ]
  },
  {
   "cell_type": "code",
   "execution_count": 27,
   "id": "6054f39a",
   "metadata": {
    "execution": {
     "iopub.execute_input": "2023-12-31T14:33:26.376152Z",
     "iopub.status.busy": "2023-12-31T14:33:26.375454Z",
     "iopub.status.idle": "2023-12-31T14:33:36.191701Z",
     "shell.execute_reply": "2023-12-31T14:33:36.190577Z"
    },
    "papermill": {
     "duration": 9.834193,
     "end_time": "2023-12-31T14:33:36.194324",
     "exception": false,
     "start_time": "2023-12-31T14:33:26.360131",
     "status": "completed"
    },
    "tags": []
   },
   "outputs": [
    {
     "name": "stdout",
     "output_type": "stream",
     "text": [
      "CV score of XGB is 0.46202087561011895\n"
     ]
    }
   ],
   "source": [
    "lgb_model = LGBMClassifier(random_state=42)\n",
    "lgb_model.fit(X,y)\n",
    "pred = lgb_model.predict_proba(X_test)\n",
    "print( 'CV score of XGB is',abs(cross_val_score(lgb_model, X,y,cv = 4, scoring='neg_log_loss').mean()))"
   ]
  },
  {
   "cell_type": "code",
   "execution_count": 28,
   "id": "c69288fe",
   "metadata": {
    "execution": {
     "iopub.execute_input": "2023-12-31T14:33:36.224312Z",
     "iopub.status.busy": "2023-12-31T14:33:36.223925Z",
     "iopub.status.idle": "2023-12-31T14:33:36.230321Z",
     "shell.execute_reply": "2023-12-31T14:33:36.229175Z"
    },
    "papermill": {
     "duration": 0.024072,
     "end_time": "2023-12-31T14:33:36.232585",
     "exception": false,
     "start_time": "2023-12-31T14:33:36.208513",
     "status": "completed"
    },
    "tags": []
   },
   "outputs": [],
   "source": [
    "PATIENCE = 10\n",
    "\n",
    "xgbr_params ={\n",
    "'objective': 'multi_logloss', \n",
    " \n",
    "'max_depth': 9, 'min_child_weight': 8,\n",
    "'learning_rate': 0.0337716365315986,\n",
    "'n_estimators': 733,\n",
    "'subsample': 0.6927955384688348,\n",
    "'colsample_bytree': 0.1234702658812108, \n",
    "'reg_alpha': 0.18561628377665318, \n",
    "'reg_lambda': 0.5565488299127089, \n",
    "'random_state': 42\n",
    "}"
   ]
  },
  {
   "cell_type": "code",
   "execution_count": 29,
   "id": "2efe5844",
   "metadata": {
    "execution": {
     "iopub.execute_input": "2023-12-31T14:33:36.264043Z",
     "iopub.status.busy": "2023-12-31T14:33:36.262940Z",
     "iopub.status.idle": "2023-12-31T14:33:36.269165Z",
     "shell.execute_reply": "2023-12-31T14:33:36.268413Z"
    },
    "papermill": {
     "duration": 0.024535,
     "end_time": "2023-12-31T14:33:36.271358",
     "exception": false,
     "start_time": "2023-12-31T14:33:36.246823",
     "status": "completed"
    },
    "tags": []
   },
   "outputs": [],
   "source": [
    "def ml_model(model, X_train, y_train):\n",
    "    \n",
    "    model.fit(X=X_train, y=y_train,\n",
    "          eval_set=[(X_valid, y_valid)],\n",
    "          early_stopping_rounds = PATIENCE,\n",
    "            verbose = 50 )\n",
    "    \n",
    "    preds = model.predict_proba(X_test)"
   ]
  },
  {
   "cell_type": "code",
   "execution_count": 30,
   "id": "5b2bfdbc",
   "metadata": {
    "_kg_hide-input": true,
    "execution": {
     "iopub.execute_input": "2023-12-31T14:33:36.301758Z",
     "iopub.status.busy": "2023-12-31T14:33:36.300994Z",
     "iopub.status.idle": "2023-12-31T14:36:45.767966Z",
     "shell.execute_reply": "2023-12-31T14:36:45.766673Z"
    },
    "papermill": {
     "duration": 189.48533,
     "end_time": "2023-12-31T14:36:45.770838",
     "exception": false,
     "start_time": "2023-12-31T14:33:36.285508",
     "status": "completed"
    },
    "tags": []
   },
   "outputs": [
    {
     "name": "stdout",
     "output_type": "stream",
     "text": [
      "[0]\tvalidation_0-mlogloss:1.07761\n"
     ]
    },
    {
     "name": "stderr",
     "output_type": "stream",
     "text": [
      "/opt/conda/lib/python3.10/site-packages/xgboost/sklearn.py:885: UserWarning: `early_stopping_rounds` in `fit` method is deprecated for better compatibility with scikit-learn, use `early_stopping_rounds` in constructor or`set_params` instead.\n",
      "  warnings.warn(\n"
     ]
    },
    {
     "name": "stdout",
     "output_type": "stream",
     "text": [
      "[50]\tvalidation_0-mlogloss:0.62903\n",
      "[100]\tvalidation_0-mlogloss:0.51708\n",
      "[150]\tvalidation_0-mlogloss:0.47903\n",
      "[200]\tvalidation_0-mlogloss:0.46129\n",
      "[250]\tvalidation_0-mlogloss:0.45058\n",
      "[300]\tvalidation_0-mlogloss:0.44428\n",
      "[350]\tvalidation_0-mlogloss:0.44008\n",
      "[359]\tvalidation_0-mlogloss:0.44024\n",
      "[0]\tvalidation_0-mlogloss:1.07617\n"
     ]
    },
    {
     "name": "stderr",
     "output_type": "stream",
     "text": [
      "/opt/conda/lib/python3.10/site-packages/xgboost/sklearn.py:885: UserWarning: `early_stopping_rounds` in `fit` method is deprecated for better compatibility with scikit-learn, use `early_stopping_rounds` in constructor or`set_params` instead.\n",
      "  warnings.warn(\n"
     ]
    },
    {
     "name": "stdout",
     "output_type": "stream",
     "text": [
      "[50]\tvalidation_0-mlogloss:0.60136\n",
      "[100]\tvalidation_0-mlogloss:0.48360\n",
      "[150]\tvalidation_0-mlogloss:0.44234\n",
      "[200]\tvalidation_0-mlogloss:0.42276\n",
      "[250]\tvalidation_0-mlogloss:0.41190\n",
      "[300]\tvalidation_0-mlogloss:0.40545\n",
      "[350]\tvalidation_0-mlogloss:0.40250\n",
      "[400]\tvalidation_0-mlogloss:0.40086\n",
      "[434]\tvalidation_0-mlogloss:0.39964\n",
      "[0]\tvalidation_0-mlogloss:1.07709\n"
     ]
    },
    {
     "name": "stderr",
     "output_type": "stream",
     "text": [
      "/opt/conda/lib/python3.10/site-packages/xgboost/sklearn.py:885: UserWarning: `early_stopping_rounds` in `fit` method is deprecated for better compatibility with scikit-learn, use `early_stopping_rounds` in constructor or`set_params` instead.\n",
      "  warnings.warn(\n"
     ]
    },
    {
     "name": "stdout",
     "output_type": "stream",
     "text": [
      "[50]\tvalidation_0-mlogloss:0.62214\n",
      "[100]\tvalidation_0-mlogloss:0.51269\n",
      "[150]\tvalidation_0-mlogloss:0.47574\n",
      "[200]\tvalidation_0-mlogloss:0.45848\n",
      "[250]\tvalidation_0-mlogloss:0.44883\n",
      "[300]\tvalidation_0-mlogloss:0.44294\n",
      "[350]\tvalidation_0-mlogloss:0.43878\n",
      "[390]\tvalidation_0-mlogloss:0.43705\n",
      "[0]\tvalidation_0-mlogloss:1.07714\n"
     ]
    },
    {
     "name": "stderr",
     "output_type": "stream",
     "text": [
      "/opt/conda/lib/python3.10/site-packages/xgboost/sklearn.py:885: UserWarning: `early_stopping_rounds` in `fit` method is deprecated for better compatibility with scikit-learn, use `early_stopping_rounds` in constructor or`set_params` instead.\n",
      "  warnings.warn(\n"
     ]
    },
    {
     "name": "stdout",
     "output_type": "stream",
     "text": [
      "[50]\tvalidation_0-mlogloss:0.61985\n",
      "[100]\tvalidation_0-mlogloss:0.50753\n",
      "[150]\tvalidation_0-mlogloss:0.46804\n",
      "[200]\tvalidation_0-mlogloss:0.44913\n",
      "[250]\tvalidation_0-mlogloss:0.43785\n",
      "[300]\tvalidation_0-mlogloss:0.43052\n",
      "[350]\tvalidation_0-mlogloss:0.42506\n",
      "[400]\tvalidation_0-mlogloss:0.42246\n",
      "[450]\tvalidation_0-mlogloss:0.42067\n",
      "[500]\tvalidation_0-mlogloss:0.41951\n",
      "[518]\tvalidation_0-mlogloss:0.41958\n",
      "[0]\tvalidation_0-mlogloss:1.07695\n"
     ]
    },
    {
     "name": "stderr",
     "output_type": "stream",
     "text": [
      "/opt/conda/lib/python3.10/site-packages/xgboost/sklearn.py:885: UserWarning: `early_stopping_rounds` in `fit` method is deprecated for better compatibility with scikit-learn, use `early_stopping_rounds` in constructor or`set_params` instead.\n",
      "  warnings.warn(\n"
     ]
    },
    {
     "name": "stdout",
     "output_type": "stream",
     "text": [
      "[50]\tvalidation_0-mlogloss:0.61837\n",
      "[100]\tvalidation_0-mlogloss:0.50763\n",
      "[150]\tvalidation_0-mlogloss:0.47070\n",
      "[200]\tvalidation_0-mlogloss:0.45341\n",
      "[250]\tvalidation_0-mlogloss:0.44385\n",
      "[300]\tvalidation_0-mlogloss:0.43803\n",
      "[350]\tvalidation_0-mlogloss:0.43514\n",
      "[358]\tvalidation_0-mlogloss:0.43505\n",
      "[0]\tvalidation_0-mlogloss:1.07702\n"
     ]
    },
    {
     "name": "stderr",
     "output_type": "stream",
     "text": [
      "/opt/conda/lib/python3.10/site-packages/xgboost/sklearn.py:885: UserWarning: `early_stopping_rounds` in `fit` method is deprecated for better compatibility with scikit-learn, use `early_stopping_rounds` in constructor or`set_params` instead.\n",
      "  warnings.warn(\n"
     ]
    },
    {
     "name": "stdout",
     "output_type": "stream",
     "text": [
      "[50]\tvalidation_0-mlogloss:0.60835\n",
      "[100]\tvalidation_0-mlogloss:0.49536\n",
      "[150]\tvalidation_0-mlogloss:0.45684\n",
      "[200]\tvalidation_0-mlogloss:0.43706\n",
      "[250]\tvalidation_0-mlogloss:0.42418\n",
      "[300]\tvalidation_0-mlogloss:0.41666\n",
      "[350]\tvalidation_0-mlogloss:0.41230\n",
      "[400]\tvalidation_0-mlogloss:0.40954\n",
      "[450]\tvalidation_0-mlogloss:0.40830\n",
      "[500]\tvalidation_0-mlogloss:0.40736\n",
      "[516]\tvalidation_0-mlogloss:0.40719\n",
      "[0]\tvalidation_0-mlogloss:1.07659\n"
     ]
    },
    {
     "name": "stderr",
     "output_type": "stream",
     "text": [
      "/opt/conda/lib/python3.10/site-packages/xgboost/sklearn.py:885: UserWarning: `early_stopping_rounds` in `fit` method is deprecated for better compatibility with scikit-learn, use `early_stopping_rounds` in constructor or`set_params` instead.\n",
      "  warnings.warn(\n"
     ]
    },
    {
     "name": "stdout",
     "output_type": "stream",
     "text": [
      "[50]\tvalidation_0-mlogloss:0.60796\n",
      "[100]\tvalidation_0-mlogloss:0.48957\n",
      "[150]\tvalidation_0-mlogloss:0.44696\n",
      "[200]\tvalidation_0-mlogloss:0.42474\n",
      "[250]\tvalidation_0-mlogloss:0.41273\n",
      "[300]\tvalidation_0-mlogloss:0.40607\n",
      "[350]\tvalidation_0-mlogloss:0.40230\n",
      "[400]\tvalidation_0-mlogloss:0.40006\n",
      "[450]\tvalidation_0-mlogloss:0.39881\n",
      "[500]\tvalidation_0-mlogloss:0.39744\n",
      "[501]\tvalidation_0-mlogloss:0.39753\n",
      "[0]\tvalidation_0-mlogloss:1.07691\n"
     ]
    },
    {
     "name": "stderr",
     "output_type": "stream",
     "text": [
      "/opt/conda/lib/python3.10/site-packages/xgboost/sklearn.py:885: UserWarning: `early_stopping_rounds` in `fit` method is deprecated for better compatibility with scikit-learn, use `early_stopping_rounds` in constructor or`set_params` instead.\n",
      "  warnings.warn(\n"
     ]
    },
    {
     "name": "stdout",
     "output_type": "stream",
     "text": [
      "[50]\tvalidation_0-mlogloss:0.61040\n",
      "[100]\tvalidation_0-mlogloss:0.49359\n",
      "[150]\tvalidation_0-mlogloss:0.45058\n",
      "[200]\tvalidation_0-mlogloss:0.43068\n",
      "[250]\tvalidation_0-mlogloss:0.41917\n",
      "[300]\tvalidation_0-mlogloss:0.41271\n",
      "[350]\tvalidation_0-mlogloss:0.40857\n",
      "[400]\tvalidation_0-mlogloss:0.40669\n",
      "[450]\tvalidation_0-mlogloss:0.40554\n",
      "[452]\tvalidation_0-mlogloss:0.40535\n",
      "[0]\tvalidation_0-mlogloss:1.07768\n"
     ]
    },
    {
     "name": "stderr",
     "output_type": "stream",
     "text": [
      "/opt/conda/lib/python3.10/site-packages/xgboost/sklearn.py:885: UserWarning: `early_stopping_rounds` in `fit` method is deprecated for better compatibility with scikit-learn, use `early_stopping_rounds` in constructor or`set_params` instead.\n",
      "  warnings.warn(\n"
     ]
    },
    {
     "name": "stdout",
     "output_type": "stream",
     "text": [
      "[50]\tvalidation_0-mlogloss:0.62148\n",
      "[100]\tvalidation_0-mlogloss:0.50949\n",
      "[150]\tvalidation_0-mlogloss:0.47066\n",
      "[200]\tvalidation_0-mlogloss:0.45283\n",
      "[250]\tvalidation_0-mlogloss:0.44224\n",
      "[300]\tvalidation_0-mlogloss:0.43685\n",
      "[350]\tvalidation_0-mlogloss:0.43363\n",
      "[400]\tvalidation_0-mlogloss:0.43153\n",
      "[416]\tvalidation_0-mlogloss:0.43156\n",
      "[0]\tvalidation_0-mlogloss:1.07683\n"
     ]
    },
    {
     "name": "stderr",
     "output_type": "stream",
     "text": [
      "/opt/conda/lib/python3.10/site-packages/xgboost/sklearn.py:885: UserWarning: `early_stopping_rounds` in `fit` method is deprecated for better compatibility with scikit-learn, use `early_stopping_rounds` in constructor or`set_params` instead.\n",
      "  warnings.warn(\n"
     ]
    },
    {
     "name": "stdout",
     "output_type": "stream",
     "text": [
      "[50]\tvalidation_0-mlogloss:0.61820\n",
      "[100]\tvalidation_0-mlogloss:0.50885\n",
      "[150]\tvalidation_0-mlogloss:0.47177\n",
      "[200]\tvalidation_0-mlogloss:0.45671\n",
      "[250]\tvalidation_0-mlogloss:0.44804\n",
      "[300]\tvalidation_0-mlogloss:0.44374\n",
      "[350]\tvalidation_0-mlogloss:0.44198\n",
      "[387]\tvalidation_0-mlogloss:0.44128\n",
      "[0]\tvalidation_0-mlogloss:1.07684\n"
     ]
    },
    {
     "name": "stderr",
     "output_type": "stream",
     "text": [
      "/opt/conda/lib/python3.10/site-packages/xgboost/sklearn.py:885: UserWarning: `early_stopping_rounds` in `fit` method is deprecated for better compatibility with scikit-learn, use `early_stopping_rounds` in constructor or`set_params` instead.\n",
      "  warnings.warn(\n"
     ]
    },
    {
     "name": "stdout",
     "output_type": "stream",
     "text": [
      "[50]\tvalidation_0-mlogloss:0.61053\n",
      "[100]\tvalidation_0-mlogloss:0.49335\n",
      "[150]\tvalidation_0-mlogloss:0.45020\n",
      "[200]\tvalidation_0-mlogloss:0.42629\n",
      "[250]\tvalidation_0-mlogloss:0.41259\n",
      "[300]\tvalidation_0-mlogloss:0.40372\n",
      "[350]\tvalidation_0-mlogloss:0.39802\n",
      "[400]\tvalidation_0-mlogloss:0.39479\n",
      "[450]\tvalidation_0-mlogloss:0.39213\n",
      "[500]\tvalidation_0-mlogloss:0.38947\n",
      "[550]\tvalidation_0-mlogloss:0.38797\n",
      "[567]\tvalidation_0-mlogloss:0.38795\n",
      "[0]\tvalidation_0-mlogloss:1.07676\n"
     ]
    },
    {
     "name": "stderr",
     "output_type": "stream",
     "text": [
      "/opt/conda/lib/python3.10/site-packages/xgboost/sklearn.py:885: UserWarning: `early_stopping_rounds` in `fit` method is deprecated for better compatibility with scikit-learn, use `early_stopping_rounds` in constructor or`set_params` instead.\n",
      "  warnings.warn(\n"
     ]
    },
    {
     "name": "stdout",
     "output_type": "stream",
     "text": [
      "[50]\tvalidation_0-mlogloss:0.61684\n",
      "[100]\tvalidation_0-mlogloss:0.50888\n",
      "[150]\tvalidation_0-mlogloss:0.47340\n",
      "[200]\tvalidation_0-mlogloss:0.45667\n",
      "[250]\tvalidation_0-mlogloss:0.44894\n",
      "[300]\tvalidation_0-mlogloss:0.44347\n",
      "[350]\tvalidation_0-mlogloss:0.44079\n",
      "[400]\tvalidation_0-mlogloss:0.43910\n",
      "[431]\tvalidation_0-mlogloss:0.43898\n",
      "[0]\tvalidation_0-mlogloss:1.07678\n"
     ]
    },
    {
     "name": "stderr",
     "output_type": "stream",
     "text": [
      "/opt/conda/lib/python3.10/site-packages/xgboost/sklearn.py:885: UserWarning: `early_stopping_rounds` in `fit` method is deprecated for better compatibility with scikit-learn, use `early_stopping_rounds` in constructor or`set_params` instead.\n",
      "  warnings.warn(\n"
     ]
    },
    {
     "name": "stdout",
     "output_type": "stream",
     "text": [
      "[50]\tvalidation_0-mlogloss:0.61649\n",
      "[100]\tvalidation_0-mlogloss:0.50048\n",
      "[150]\tvalidation_0-mlogloss:0.45990\n",
      "[200]\tvalidation_0-mlogloss:0.43955\n",
      "[250]\tvalidation_0-mlogloss:0.42705\n",
      "[300]\tvalidation_0-mlogloss:0.42059\n",
      "[350]\tvalidation_0-mlogloss:0.41778\n",
      "[400]\tvalidation_0-mlogloss:0.41587\n",
      "[450]\tvalidation_0-mlogloss:0.41361\n",
      "[478]\tvalidation_0-mlogloss:0.41311\n",
      "[0]\tvalidation_0-mlogloss:1.07665\n"
     ]
    },
    {
     "name": "stderr",
     "output_type": "stream",
     "text": [
      "/opt/conda/lib/python3.10/site-packages/xgboost/sklearn.py:885: UserWarning: `early_stopping_rounds` in `fit` method is deprecated for better compatibility with scikit-learn, use `early_stopping_rounds` in constructor or`set_params` instead.\n",
      "  warnings.warn(\n"
     ]
    },
    {
     "name": "stdout",
     "output_type": "stream",
     "text": [
      "[50]\tvalidation_0-mlogloss:0.61209\n",
      "[100]\tvalidation_0-mlogloss:0.50012\n",
      "[150]\tvalidation_0-mlogloss:0.46224\n",
      "[200]\tvalidation_0-mlogloss:0.44494\n",
      "[250]\tvalidation_0-mlogloss:0.43315\n",
      "[300]\tvalidation_0-mlogloss:0.42605\n",
      "[350]\tvalidation_0-mlogloss:0.42223\n",
      "[400]\tvalidation_0-mlogloss:0.41945\n",
      "[450]\tvalidation_0-mlogloss:0.41799\n",
      "[499]\tvalidation_0-mlogloss:0.41694\n",
      "[0]\tvalidation_0-mlogloss:1.07691\n"
     ]
    },
    {
     "name": "stderr",
     "output_type": "stream",
     "text": [
      "/opt/conda/lib/python3.10/site-packages/xgboost/sklearn.py:885: UserWarning: `early_stopping_rounds` in `fit` method is deprecated for better compatibility with scikit-learn, use `early_stopping_rounds` in constructor or`set_params` instead.\n",
      "  warnings.warn(\n"
     ]
    },
    {
     "name": "stdout",
     "output_type": "stream",
     "text": [
      "[50]\tvalidation_0-mlogloss:0.61421\n",
      "[100]\tvalidation_0-mlogloss:0.49433\n",
      "[150]\tvalidation_0-mlogloss:0.45142\n",
      "[200]\tvalidation_0-mlogloss:0.42783\n",
      "[250]\tvalidation_0-mlogloss:0.41533\n",
      "[300]\tvalidation_0-mlogloss:0.40756\n",
      "[350]\tvalidation_0-mlogloss:0.40276\n",
      "[400]\tvalidation_0-mlogloss:0.39990\n",
      "[450]\tvalidation_0-mlogloss:0.39763\n",
      "[472]\tvalidation_0-mlogloss:0.39730\n",
      "[0]\tvalidation_0-mlogloss:1.07702\n"
     ]
    },
    {
     "name": "stderr",
     "output_type": "stream",
     "text": [
      "/opt/conda/lib/python3.10/site-packages/xgboost/sklearn.py:885: UserWarning: `early_stopping_rounds` in `fit` method is deprecated for better compatibility with scikit-learn, use `early_stopping_rounds` in constructor or`set_params` instead.\n",
      "  warnings.warn(\n"
     ]
    },
    {
     "name": "stdout",
     "output_type": "stream",
     "text": [
      "[50]\tvalidation_0-mlogloss:0.61581\n",
      "[100]\tvalidation_0-mlogloss:0.50093\n",
      "[150]\tvalidation_0-mlogloss:0.46081\n",
      "[200]\tvalidation_0-mlogloss:0.44000\n",
      "[250]\tvalidation_0-mlogloss:0.42972\n",
      "[300]\tvalidation_0-mlogloss:0.42303\n",
      "[350]\tvalidation_0-mlogloss:0.41965\n",
      "[400]\tvalidation_0-mlogloss:0.41795\n",
      "[436]\tvalidation_0-mlogloss:0.41718\n",
      "[0]\tvalidation_0-mlogloss:1.07750\n"
     ]
    },
    {
     "name": "stderr",
     "output_type": "stream",
     "text": [
      "/opt/conda/lib/python3.10/site-packages/xgboost/sklearn.py:885: UserWarning: `early_stopping_rounds` in `fit` method is deprecated for better compatibility with scikit-learn, use `early_stopping_rounds` in constructor or`set_params` instead.\n",
      "  warnings.warn(\n"
     ]
    },
    {
     "name": "stdout",
     "output_type": "stream",
     "text": [
      "[50]\tvalidation_0-mlogloss:0.63476\n",
      "[100]\tvalidation_0-mlogloss:0.53121\n",
      "[150]\tvalidation_0-mlogloss:0.49546\n",
      "[200]\tvalidation_0-mlogloss:0.47794\n",
      "[250]\tvalidation_0-mlogloss:0.46843\n",
      "[300]\tvalidation_0-mlogloss:0.46185\n",
      "[350]\tvalidation_0-mlogloss:0.45850\n",
      "[400]\tvalidation_0-mlogloss:0.45722\n",
      "[450]\tvalidation_0-mlogloss:0.45574\n",
      "[456]\tvalidation_0-mlogloss:0.45588\n",
      "[0]\tvalidation_0-mlogloss:1.07653\n"
     ]
    },
    {
     "name": "stderr",
     "output_type": "stream",
     "text": [
      "/opt/conda/lib/python3.10/site-packages/xgboost/sklearn.py:885: UserWarning: `early_stopping_rounds` in `fit` method is deprecated for better compatibility with scikit-learn, use `early_stopping_rounds` in constructor or`set_params` instead.\n",
      "  warnings.warn(\n"
     ]
    },
    {
     "name": "stdout",
     "output_type": "stream",
     "text": [
      "[50]\tvalidation_0-mlogloss:0.60773\n",
      "[100]\tvalidation_0-mlogloss:0.48575\n",
      "[150]\tvalidation_0-mlogloss:0.44289\n",
      "[200]\tvalidation_0-mlogloss:0.42193\n",
      "[250]\tvalidation_0-mlogloss:0.40899\n",
      "[300]\tvalidation_0-mlogloss:0.40276\n",
      "[350]\tvalidation_0-mlogloss:0.39924\n",
      "[387]\tvalidation_0-mlogloss:0.39720\n",
      "[0]\tvalidation_0-mlogloss:1.07734\n"
     ]
    },
    {
     "name": "stderr",
     "output_type": "stream",
     "text": [
      "/opt/conda/lib/python3.10/site-packages/xgboost/sklearn.py:885: UserWarning: `early_stopping_rounds` in `fit` method is deprecated for better compatibility with scikit-learn, use `early_stopping_rounds` in constructor or`set_params` instead.\n",
      "  warnings.warn(\n"
     ]
    },
    {
     "name": "stdout",
     "output_type": "stream",
     "text": [
      "[50]\tvalidation_0-mlogloss:0.62606\n",
      "[100]\tvalidation_0-mlogloss:0.51930\n",
      "[150]\tvalidation_0-mlogloss:0.48632\n",
      "[200]\tvalidation_0-mlogloss:0.47036\n",
      "[250]\tvalidation_0-mlogloss:0.46018\n",
      "[300]\tvalidation_0-mlogloss:0.45625\n",
      "[328]\tvalidation_0-mlogloss:0.45507\n",
      "[0]\tvalidation_0-mlogloss:1.07659\n"
     ]
    },
    {
     "name": "stderr",
     "output_type": "stream",
     "text": [
      "/opt/conda/lib/python3.10/site-packages/xgboost/sklearn.py:885: UserWarning: `early_stopping_rounds` in `fit` method is deprecated for better compatibility with scikit-learn, use `early_stopping_rounds` in constructor or`set_params` instead.\n",
      "  warnings.warn(\n"
     ]
    },
    {
     "name": "stdout",
     "output_type": "stream",
     "text": [
      "[50]\tvalidation_0-mlogloss:0.60462\n",
      "[100]\tvalidation_0-mlogloss:0.48987\n",
      "[150]\tvalidation_0-mlogloss:0.45041\n",
      "[200]\tvalidation_0-mlogloss:0.43159\n",
      "[250]\tvalidation_0-mlogloss:0.41865\n",
      "[300]\tvalidation_0-mlogloss:0.41120\n",
      "[350]\tvalidation_0-mlogloss:0.40664\n",
      "[400]\tvalidation_0-mlogloss:0.40316\n",
      "[450]\tvalidation_0-mlogloss:0.40151\n",
      "[500]\tvalidation_0-mlogloss:0.39913\n",
      "[514]\tvalidation_0-mlogloss:0.39912\n",
      "[0]\tvalidation_0-mlogloss:1.07634\n"
     ]
    },
    {
     "name": "stderr",
     "output_type": "stream",
     "text": [
      "/opt/conda/lib/python3.10/site-packages/xgboost/sklearn.py:885: UserWarning: `early_stopping_rounds` in `fit` method is deprecated for better compatibility with scikit-learn, use `early_stopping_rounds` in constructor or`set_params` instead.\n",
      "  warnings.warn(\n"
     ]
    },
    {
     "name": "stdout",
     "output_type": "stream",
     "text": [
      "[50]\tvalidation_0-mlogloss:0.60403\n",
      "[100]\tvalidation_0-mlogloss:0.49003\n",
      "[150]\tvalidation_0-mlogloss:0.45185\n",
      "[200]\tvalidation_0-mlogloss:0.43652\n",
      "[250]\tvalidation_0-mlogloss:0.42960\n",
      "[300]\tvalidation_0-mlogloss:0.42613\n",
      "[350]\tvalidation_0-mlogloss:0.42413\n",
      "[357]\tvalidation_0-mlogloss:0.42411\n",
      "[0]\tvalidation_0-mlogloss:1.07660\n"
     ]
    },
    {
     "name": "stderr",
     "output_type": "stream",
     "text": [
      "/opt/conda/lib/python3.10/site-packages/xgboost/sklearn.py:885: UserWarning: `early_stopping_rounds` in `fit` method is deprecated for better compatibility with scikit-learn, use `early_stopping_rounds` in constructor or`set_params` instead.\n",
      "  warnings.warn(\n"
     ]
    },
    {
     "name": "stdout",
     "output_type": "stream",
     "text": [
      "[50]\tvalidation_0-mlogloss:0.60841\n",
      "[100]\tvalidation_0-mlogloss:0.49667\n",
      "[150]\tvalidation_0-mlogloss:0.45897\n",
      "[200]\tvalidation_0-mlogloss:0.44124\n",
      "[250]\tvalidation_0-mlogloss:0.43307\n",
      "[300]\tvalidation_0-mlogloss:0.42858\n",
      "[350]\tvalidation_0-mlogloss:0.42665\n",
      "[357]\tvalidation_0-mlogloss:0.42634\n",
      "[0]\tvalidation_0-mlogloss:1.07757\n"
     ]
    },
    {
     "name": "stderr",
     "output_type": "stream",
     "text": [
      "/opt/conda/lib/python3.10/site-packages/xgboost/sklearn.py:885: UserWarning: `early_stopping_rounds` in `fit` method is deprecated for better compatibility with scikit-learn, use `early_stopping_rounds` in constructor or`set_params` instead.\n",
      "  warnings.warn(\n"
     ]
    },
    {
     "name": "stdout",
     "output_type": "stream",
     "text": [
      "[50]\tvalidation_0-mlogloss:0.62632\n",
      "[100]\tvalidation_0-mlogloss:0.51527\n",
      "[150]\tvalidation_0-mlogloss:0.47798\n",
      "[200]\tvalidation_0-mlogloss:0.46095\n",
      "[250]\tvalidation_0-mlogloss:0.45010\n",
      "[300]\tvalidation_0-mlogloss:0.44498\n",
      "[350]\tvalidation_0-mlogloss:0.44243\n",
      "[400]\tvalidation_0-mlogloss:0.43960\n",
      "[419]\tvalidation_0-mlogloss:0.43951\n",
      "[0]\tvalidation_0-mlogloss:1.07629\n"
     ]
    },
    {
     "name": "stderr",
     "output_type": "stream",
     "text": [
      "/opt/conda/lib/python3.10/site-packages/xgboost/sklearn.py:885: UserWarning: `early_stopping_rounds` in `fit` method is deprecated for better compatibility with scikit-learn, use `early_stopping_rounds` in constructor or`set_params` instead.\n",
      "  warnings.warn(\n"
     ]
    },
    {
     "name": "stdout",
     "output_type": "stream",
     "text": [
      "[50]\tvalidation_0-mlogloss:0.60071\n",
      "[100]\tvalidation_0-mlogloss:0.48476\n",
      "[150]\tvalidation_0-mlogloss:0.44472\n",
      "[200]\tvalidation_0-mlogloss:0.42508\n",
      "[250]\tvalidation_0-mlogloss:0.41349\n",
      "[300]\tvalidation_0-mlogloss:0.40728\n",
      "[350]\tvalidation_0-mlogloss:0.40434\n",
      "[387]\tvalidation_0-mlogloss:0.40404\n",
      "[0]\tvalidation_0-mlogloss:1.07667\n"
     ]
    },
    {
     "name": "stderr",
     "output_type": "stream",
     "text": [
      "/opt/conda/lib/python3.10/site-packages/xgboost/sklearn.py:885: UserWarning: `early_stopping_rounds` in `fit` method is deprecated for better compatibility with scikit-learn, use `early_stopping_rounds` in constructor or`set_params` instead.\n",
      "  warnings.warn(\n"
     ]
    },
    {
     "name": "stdout",
     "output_type": "stream",
     "text": [
      "[50]\tvalidation_0-mlogloss:0.61594\n",
      "[100]\tvalidation_0-mlogloss:0.49733\n",
      "[150]\tvalidation_0-mlogloss:0.45302\n",
      "[200]\tvalidation_0-mlogloss:0.43018\n",
      "[250]\tvalidation_0-mlogloss:0.41625\n",
      "[300]\tvalidation_0-mlogloss:0.40770\n",
      "[350]\tvalidation_0-mlogloss:0.40198\n",
      "[400]\tvalidation_0-mlogloss:0.39973\n",
      "[450]\tvalidation_0-mlogloss:0.39642\n",
      "[500]\tvalidation_0-mlogloss:0.39380\n",
      "[517]\tvalidation_0-mlogloss:0.39358\n",
      "[0]\tvalidation_0-mlogloss:1.07748\n"
     ]
    },
    {
     "name": "stderr",
     "output_type": "stream",
     "text": [
      "/opt/conda/lib/python3.10/site-packages/xgboost/sklearn.py:885: UserWarning: `early_stopping_rounds` in `fit` method is deprecated for better compatibility with scikit-learn, use `early_stopping_rounds` in constructor or`set_params` instead.\n",
      "  warnings.warn(\n"
     ]
    },
    {
     "name": "stdout",
     "output_type": "stream",
     "text": [
      "[50]\tvalidation_0-mlogloss:0.62540\n",
      "[100]\tvalidation_0-mlogloss:0.51449\n",
      "[150]\tvalidation_0-mlogloss:0.47512\n",
      "[200]\tvalidation_0-mlogloss:0.45569\n",
      "[250]\tvalidation_0-mlogloss:0.44324\n",
      "[300]\tvalidation_0-mlogloss:0.43570\n",
      "[350]\tvalidation_0-mlogloss:0.43062\n",
      "[400]\tvalidation_0-mlogloss:0.42782\n",
      "[450]\tvalidation_0-mlogloss:0.42566\n",
      "[499]\tvalidation_0-mlogloss:0.42471\n",
      "[0]\tvalidation_0-mlogloss:1.07652\n"
     ]
    },
    {
     "name": "stderr",
     "output_type": "stream",
     "text": [
      "/opt/conda/lib/python3.10/site-packages/xgboost/sklearn.py:885: UserWarning: `early_stopping_rounds` in `fit` method is deprecated for better compatibility with scikit-learn, use `early_stopping_rounds` in constructor or`set_params` instead.\n",
      "  warnings.warn(\n"
     ]
    },
    {
     "name": "stdout",
     "output_type": "stream",
     "text": [
      "[50]\tvalidation_0-mlogloss:0.60424\n",
      "[100]\tvalidation_0-mlogloss:0.48973\n",
      "[150]\tvalidation_0-mlogloss:0.44970\n",
      "[200]\tvalidation_0-mlogloss:0.43156\n",
      "[250]\tvalidation_0-mlogloss:0.42046\n",
      "[300]\tvalidation_0-mlogloss:0.41391\n",
      "[350]\tvalidation_0-mlogloss:0.40963\n",
      "[400]\tvalidation_0-mlogloss:0.40778\n",
      "[446]\tvalidation_0-mlogloss:0.40707\n",
      "[0]\tvalidation_0-mlogloss:1.07703\n"
     ]
    },
    {
     "name": "stderr",
     "output_type": "stream",
     "text": [
      "/opt/conda/lib/python3.10/site-packages/xgboost/sklearn.py:885: UserWarning: `early_stopping_rounds` in `fit` method is deprecated for better compatibility with scikit-learn, use `early_stopping_rounds` in constructor or`set_params` instead.\n",
      "  warnings.warn(\n"
     ]
    },
    {
     "name": "stdout",
     "output_type": "stream",
     "text": [
      "[50]\tvalidation_0-mlogloss:0.62476\n",
      "[100]\tvalidation_0-mlogloss:0.51764\n",
      "[150]\tvalidation_0-mlogloss:0.48379\n",
      "[200]\tvalidation_0-mlogloss:0.47027\n",
      "[250]\tvalidation_0-mlogloss:0.46396\n",
      "[300]\tvalidation_0-mlogloss:0.46003\n",
      "[329]\tvalidation_0-mlogloss:0.45861\n",
      "[0]\tvalidation_0-mlogloss:1.07597\n"
     ]
    },
    {
     "name": "stderr",
     "output_type": "stream",
     "text": [
      "/opt/conda/lib/python3.10/site-packages/xgboost/sklearn.py:885: UserWarning: `early_stopping_rounds` in `fit` method is deprecated for better compatibility with scikit-learn, use `early_stopping_rounds` in constructor or`set_params` instead.\n",
      "  warnings.warn(\n"
     ]
    },
    {
     "name": "stdout",
     "output_type": "stream",
     "text": [
      "[50]\tvalidation_0-mlogloss:0.60505\n",
      "[100]\tvalidation_0-mlogloss:0.49016\n",
      "[150]\tvalidation_0-mlogloss:0.45295\n",
      "[200]\tvalidation_0-mlogloss:0.43680\n",
      "[250]\tvalidation_0-mlogloss:0.42903\n",
      "[300]\tvalidation_0-mlogloss:0.42513\n",
      "[330]\tvalidation_0-mlogloss:0.42386\n",
      "[0]\tvalidation_0-mlogloss:1.07594\n"
     ]
    },
    {
     "name": "stderr",
     "output_type": "stream",
     "text": [
      "/opt/conda/lib/python3.10/site-packages/xgboost/sklearn.py:885: UserWarning: `early_stopping_rounds` in `fit` method is deprecated for better compatibility with scikit-learn, use `early_stopping_rounds` in constructor or`set_params` instead.\n",
      "  warnings.warn(\n"
     ]
    },
    {
     "name": "stdout",
     "output_type": "stream",
     "text": [
      "[50]\tvalidation_0-mlogloss:0.60365\n",
      "[100]\tvalidation_0-mlogloss:0.48568\n",
      "[150]\tvalidation_0-mlogloss:0.44566\n",
      "[200]\tvalidation_0-mlogloss:0.42544\n",
      "[250]\tvalidation_0-mlogloss:0.41363\n",
      "[300]\tvalidation_0-mlogloss:0.40764\n",
      "[350]\tvalidation_0-mlogloss:0.40343\n",
      "[400]\tvalidation_0-mlogloss:0.39999\n",
      "[450]\tvalidation_0-mlogloss:0.39784\n",
      "[500]\tvalidation_0-mlogloss:0.39593\n",
      "[518]\tvalidation_0-mlogloss:0.39582\n",
      "[0]\tvalidation_0-mlogloss:1.07681\n"
     ]
    },
    {
     "name": "stderr",
     "output_type": "stream",
     "text": [
      "/opt/conda/lib/python3.10/site-packages/xgboost/sklearn.py:885: UserWarning: `early_stopping_rounds` in `fit` method is deprecated for better compatibility with scikit-learn, use `early_stopping_rounds` in constructor or`set_params` instead.\n",
      "  warnings.warn(\n"
     ]
    },
    {
     "name": "stdout",
     "output_type": "stream",
     "text": [
      "[50]\tvalidation_0-mlogloss:0.60646\n",
      "[100]\tvalidation_0-mlogloss:0.48770\n",
      "[150]\tvalidation_0-mlogloss:0.44706\n",
      "[200]\tvalidation_0-mlogloss:0.42518\n",
      "[250]\tvalidation_0-mlogloss:0.41391\n",
      "[300]\tvalidation_0-mlogloss:0.40676\n",
      "[350]\tvalidation_0-mlogloss:0.40278\n",
      "[400]\tvalidation_0-mlogloss:0.40028\n",
      "[450]\tvalidation_0-mlogloss:0.39803\n",
      "[500]\tvalidation_0-mlogloss:0.39553\n",
      "[513]\tvalidation_0-mlogloss:0.39559\n",
      "[0]\tvalidation_0-mlogloss:1.07707\n"
     ]
    },
    {
     "name": "stderr",
     "output_type": "stream",
     "text": [
      "/opt/conda/lib/python3.10/site-packages/xgboost/sklearn.py:885: UserWarning: `early_stopping_rounds` in `fit` method is deprecated for better compatibility with scikit-learn, use `early_stopping_rounds` in constructor or`set_params` instead.\n",
      "  warnings.warn(\n"
     ]
    },
    {
     "name": "stdout",
     "output_type": "stream",
     "text": [
      "[50]\tvalidation_0-mlogloss:0.61799\n",
      "[100]\tvalidation_0-mlogloss:0.50664\n",
      "[150]\tvalidation_0-mlogloss:0.46766\n",
      "[200]\tvalidation_0-mlogloss:0.44976\n",
      "[250]\tvalidation_0-mlogloss:0.43814\n",
      "[300]\tvalidation_0-mlogloss:0.43099\n",
      "[350]\tvalidation_0-mlogloss:0.42674\n",
      "[352]\tvalidation_0-mlogloss:0.42669\n",
      "[0]\tvalidation_0-mlogloss:1.07703\n"
     ]
    },
    {
     "name": "stderr",
     "output_type": "stream",
     "text": [
      "/opt/conda/lib/python3.10/site-packages/xgboost/sklearn.py:885: UserWarning: `early_stopping_rounds` in `fit` method is deprecated for better compatibility with scikit-learn, use `early_stopping_rounds` in constructor or`set_params` instead.\n",
      "  warnings.warn(\n"
     ]
    },
    {
     "name": "stdout",
     "output_type": "stream",
     "text": [
      "[50]\tvalidation_0-mlogloss:0.62245\n",
      "[100]\tvalidation_0-mlogloss:0.51267\n",
      "[150]\tvalidation_0-mlogloss:0.47318\n",
      "[200]\tvalidation_0-mlogloss:0.45254\n",
      "[250]\tvalidation_0-mlogloss:0.44279\n",
      "[300]\tvalidation_0-mlogloss:0.43621\n",
      "[350]\tvalidation_0-mlogloss:0.43155\n",
      "[400]\tvalidation_0-mlogloss:0.42927\n",
      "[450]\tvalidation_0-mlogloss:0.42770\n",
      "[455]\tvalidation_0-mlogloss:0.42774\n",
      "[0]\tvalidation_0-mlogloss:1.07807\n"
     ]
    },
    {
     "name": "stderr",
     "output_type": "stream",
     "text": [
      "/opt/conda/lib/python3.10/site-packages/xgboost/sklearn.py:885: UserWarning: `early_stopping_rounds` in `fit` method is deprecated for better compatibility with scikit-learn, use `early_stopping_rounds` in constructor or`set_params` instead.\n",
      "  warnings.warn(\n"
     ]
    },
    {
     "name": "stdout",
     "output_type": "stream",
     "text": [
      "[50]\tvalidation_0-mlogloss:0.62772\n",
      "[100]\tvalidation_0-mlogloss:0.51914\n",
      "[150]\tvalidation_0-mlogloss:0.48053\n",
      "[200]\tvalidation_0-mlogloss:0.45965\n",
      "[250]\tvalidation_0-mlogloss:0.44778\n",
      "[300]\tvalidation_0-mlogloss:0.44063\n",
      "[350]\tvalidation_0-mlogloss:0.43554\n",
      "[400]\tvalidation_0-mlogloss:0.43331\n",
      "[450]\tvalidation_0-mlogloss:0.43146\n",
      "[478]\tvalidation_0-mlogloss:0.43081\n",
      "[0]\tvalidation_0-mlogloss:1.07711\n"
     ]
    },
    {
     "name": "stderr",
     "output_type": "stream",
     "text": [
      "/opt/conda/lib/python3.10/site-packages/xgboost/sklearn.py:885: UserWarning: `early_stopping_rounds` in `fit` method is deprecated for better compatibility with scikit-learn, use `early_stopping_rounds` in constructor or`set_params` instead.\n",
      "  warnings.warn(\n"
     ]
    },
    {
     "name": "stdout",
     "output_type": "stream",
     "text": [
      "[50]\tvalidation_0-mlogloss:0.61887\n",
      "[100]\tvalidation_0-mlogloss:0.50548\n",
      "[150]\tvalidation_0-mlogloss:0.46561\n",
      "[200]\tvalidation_0-mlogloss:0.44680\n",
      "[250]\tvalidation_0-mlogloss:0.43599\n",
      "[300]\tvalidation_0-mlogloss:0.42996\n",
      "[350]\tvalidation_0-mlogloss:0.42715\n",
      "[400]\tvalidation_0-mlogloss:0.42497\n",
      "[420]\tvalidation_0-mlogloss:0.42463\n"
     ]
    }
   ],
   "source": [
    "from sklearn.model_selection import RepeatedKFold\n",
    "\n",
    "rkf = RepeatedKFold(n_repeats=5,n_splits=7, random_state=42)\n",
    "\n",
    "for train_index,test_index in rkf.split(X,y):\n",
    "    X_train, X_valid = X.iloc[train_index],X.iloc[test_index]\n",
    "    y_train, y_valid = y.iloc[train_index],y.iloc[test_index]\n",
    "    \n",
    "    XGB = XGBClassifier(**xgbr_params)\n",
    "    ml_model(XGB, X_train, y_train)"
   ]
  },
  {
   "cell_type": "code",
   "execution_count": 31,
   "id": "d90bbee4",
   "metadata": {
    "execution": {
     "iopub.execute_input": "2023-12-31T14:36:45.872451Z",
     "iopub.status.busy": "2023-12-31T14:36:45.872034Z",
     "iopub.status.idle": "2023-12-31T14:36:56.418650Z",
     "shell.execute_reply": "2023-12-31T14:36:56.417474Z"
    },
    "papermill": {
     "duration": 10.600462,
     "end_time": "2023-12-31T14:36:56.421344",
     "exception": false,
     "start_time": "2023-12-31T14:36:45.820882",
     "status": "completed"
    },
    "tags": []
   },
   "outputs": [
    {
     "data": {
      "text/html": [
       "<style>#sk-container-id-1 {color: black;background-color: white;}#sk-container-id-1 pre{padding: 0;}#sk-container-id-1 div.sk-toggleable {background-color: white;}#sk-container-id-1 label.sk-toggleable__label {cursor: pointer;display: block;width: 100%;margin-bottom: 0;padding: 0.3em;box-sizing: border-box;text-align: center;}#sk-container-id-1 label.sk-toggleable__label-arrow:before {content: \"▸\";float: left;margin-right: 0.25em;color: #696969;}#sk-container-id-1 label.sk-toggleable__label-arrow:hover:before {color: black;}#sk-container-id-1 div.sk-estimator:hover label.sk-toggleable__label-arrow:before {color: black;}#sk-container-id-1 div.sk-toggleable__content {max-height: 0;max-width: 0;overflow: hidden;text-align: left;background-color: #f0f8ff;}#sk-container-id-1 div.sk-toggleable__content pre {margin: 0.2em;color: black;border-radius: 0.25em;background-color: #f0f8ff;}#sk-container-id-1 input.sk-toggleable__control:checked~div.sk-toggleable__content {max-height: 200px;max-width: 100%;overflow: auto;}#sk-container-id-1 input.sk-toggleable__control:checked~label.sk-toggleable__label-arrow:before {content: \"▾\";}#sk-container-id-1 div.sk-estimator input.sk-toggleable__control:checked~label.sk-toggleable__label {background-color: #d4ebff;}#sk-container-id-1 div.sk-label input.sk-toggleable__control:checked~label.sk-toggleable__label {background-color: #d4ebff;}#sk-container-id-1 input.sk-hidden--visually {border: 0;clip: rect(1px 1px 1px 1px);clip: rect(1px, 1px, 1px, 1px);height: 1px;margin: -1px;overflow: hidden;padding: 0;position: absolute;width: 1px;}#sk-container-id-1 div.sk-estimator {font-family: monospace;background-color: #f0f8ff;border: 1px dotted black;border-radius: 0.25em;box-sizing: border-box;margin-bottom: 0.5em;}#sk-container-id-1 div.sk-estimator:hover {background-color: #d4ebff;}#sk-container-id-1 div.sk-parallel-item::after {content: \"\";width: 100%;border-bottom: 1px solid gray;flex-grow: 1;}#sk-container-id-1 div.sk-label:hover label.sk-toggleable__label {background-color: #d4ebff;}#sk-container-id-1 div.sk-serial::before {content: \"\";position: absolute;border-left: 1px solid gray;box-sizing: border-box;top: 0;bottom: 0;left: 50%;z-index: 0;}#sk-container-id-1 div.sk-serial {display: flex;flex-direction: column;align-items: center;background-color: white;padding-right: 0.2em;padding-left: 0.2em;position: relative;}#sk-container-id-1 div.sk-item {position: relative;z-index: 1;}#sk-container-id-1 div.sk-parallel {display: flex;align-items: stretch;justify-content: center;background-color: white;position: relative;}#sk-container-id-1 div.sk-item::before, #sk-container-id-1 div.sk-parallel-item::before {content: \"\";position: absolute;border-left: 1px solid gray;box-sizing: border-box;top: 0;bottom: 0;left: 50%;z-index: -1;}#sk-container-id-1 div.sk-parallel-item {display: flex;flex-direction: column;z-index: 1;position: relative;background-color: white;}#sk-container-id-1 div.sk-parallel-item:first-child::after {align-self: flex-end;width: 50%;}#sk-container-id-1 div.sk-parallel-item:last-child::after {align-self: flex-start;width: 50%;}#sk-container-id-1 div.sk-parallel-item:only-child::after {width: 0;}#sk-container-id-1 div.sk-dashed-wrapped {border: 1px dashed gray;margin: 0 0.4em 0.5em 0.4em;box-sizing: border-box;padding-bottom: 0.4em;background-color: white;}#sk-container-id-1 div.sk-label label {font-family: monospace;font-weight: bold;display: inline-block;line-height: 1.2em;}#sk-container-id-1 div.sk-label-container {text-align: center;}#sk-container-id-1 div.sk-container {/* jupyter's `normalize.less` sets `[hidden] { display: none; }` but bootstrap.min.css set `[hidden] { display: none !important; }` so we also need the `!important` here to be able to override the default hidden behavior on the sphinx rendered scikit-learn.org. See: https://github.com/scikit-learn/scikit-learn/issues/21755 */display: inline-block !important;position: relative;}#sk-container-id-1 div.sk-text-repr-fallback {display: none;}</style><div id=\"sk-container-id-1\" class=\"sk-top-container\"><div class=\"sk-text-repr-fallback\"><pre>VotingClassifier(estimators=[(&#x27;lgb&#x27;, LGBMClassifier(random_state=42)),\n",
       "                             (&#x27;XGB&#x27;,\n",
       "                              XGBClassifier(base_score=None, booster=None,\n",
       "                                            callbacks=None,\n",
       "                                            colsample_bylevel=None,\n",
       "                                            colsample_bynode=None,\n",
       "                                            colsample_bytree=0.1234702658812108,\n",
       "                                            device=None,\n",
       "                                            early_stopping_rounds=None,\n",
       "                                            enable_categorical=False,\n",
       "                                            eval_metric=None,\n",
       "                                            feature_types=None, gamma=None,\n",
       "                                            grow_policy=None,\n",
       "                                            importa...\n",
       "                                            interaction_constraints=None,\n",
       "                                            learning_rate=0.0337716365315986,\n",
       "                                            max_bin=None,\n",
       "                                            max_cat_threshold=None,\n",
       "                                            max_cat_to_onehot=None,\n",
       "                                            max_delta_step=None, max_depth=9,\n",
       "                                            max_leaves=None, min_child_weight=8,\n",
       "                                            missing=nan,\n",
       "                                            monotone_constraints=None,\n",
       "                                            multi_strategy=None,\n",
       "                                            n_estimators=733, n_jobs=None,\n",
       "                                            num_parallel_tree=None,\n",
       "                                            objective=&#x27;multi:softprob&#x27;, ...))],\n",
       "                 voting=&#x27;soft&#x27;, weights=[1, 0.8])</pre><b>In a Jupyter environment, please rerun this cell to show the HTML representation or trust the notebook. <br />On GitHub, the HTML representation is unable to render, please try loading this page with nbviewer.org.</b></div><div class=\"sk-container\" hidden><div class=\"sk-item sk-dashed-wrapped\"><div class=\"sk-label-container\"><div class=\"sk-label sk-toggleable\"><input class=\"sk-toggleable__control sk-hidden--visually\" id=\"sk-estimator-id-1\" type=\"checkbox\" ><label for=\"sk-estimator-id-1\" class=\"sk-toggleable__label sk-toggleable__label-arrow\">VotingClassifier</label><div class=\"sk-toggleable__content\"><pre>VotingClassifier(estimators=[(&#x27;lgb&#x27;, LGBMClassifier(random_state=42)),\n",
       "                             (&#x27;XGB&#x27;,\n",
       "                              XGBClassifier(base_score=None, booster=None,\n",
       "                                            callbacks=None,\n",
       "                                            colsample_bylevel=None,\n",
       "                                            colsample_bynode=None,\n",
       "                                            colsample_bytree=0.1234702658812108,\n",
       "                                            device=None,\n",
       "                                            early_stopping_rounds=None,\n",
       "                                            enable_categorical=False,\n",
       "                                            eval_metric=None,\n",
       "                                            feature_types=None, gamma=None,\n",
       "                                            grow_policy=None,\n",
       "                                            importa...\n",
       "                                            interaction_constraints=None,\n",
       "                                            learning_rate=0.0337716365315986,\n",
       "                                            max_bin=None,\n",
       "                                            max_cat_threshold=None,\n",
       "                                            max_cat_to_onehot=None,\n",
       "                                            max_delta_step=None, max_depth=9,\n",
       "                                            max_leaves=None, min_child_weight=8,\n",
       "                                            missing=nan,\n",
       "                                            monotone_constraints=None,\n",
       "                                            multi_strategy=None,\n",
       "                                            n_estimators=733, n_jobs=None,\n",
       "                                            num_parallel_tree=None,\n",
       "                                            objective=&#x27;multi:softprob&#x27;, ...))],\n",
       "                 voting=&#x27;soft&#x27;, weights=[1, 0.8])</pre></div></div></div><div class=\"sk-parallel\"><div class=\"sk-parallel-item\"><div class=\"sk-item\"><div class=\"sk-label-container\"><div class=\"sk-label sk-toggleable\"><label>lgb</label></div></div><div class=\"sk-serial\"><div class=\"sk-item\"><div class=\"sk-estimator sk-toggleable\"><input class=\"sk-toggleable__control sk-hidden--visually\" id=\"sk-estimator-id-2\" type=\"checkbox\" ><label for=\"sk-estimator-id-2\" class=\"sk-toggleable__label sk-toggleable__label-arrow\">LGBMClassifier</label><div class=\"sk-toggleable__content\"><pre>LGBMClassifier(random_state=42)</pre></div></div></div></div></div></div><div class=\"sk-parallel-item\"><div class=\"sk-item\"><div class=\"sk-label-container\"><div class=\"sk-label sk-toggleable\"><label>XGB</label></div></div><div class=\"sk-serial\"><div class=\"sk-item\"><div class=\"sk-estimator sk-toggleable\"><input class=\"sk-toggleable__control sk-hidden--visually\" id=\"sk-estimator-id-3\" type=\"checkbox\" ><label for=\"sk-estimator-id-3\" class=\"sk-toggleable__label sk-toggleable__label-arrow\">XGBClassifier</label><div class=\"sk-toggleable__content\"><pre>XGBClassifier(base_score=None, booster=None, callbacks=None,\n",
       "              colsample_bylevel=None, colsample_bynode=None,\n",
       "              colsample_bytree=0.1234702658812108, device=None,\n",
       "              early_stopping_rounds=None, enable_categorical=False,\n",
       "              eval_metric=None, feature_types=None, gamma=None,\n",
       "              grow_policy=None, importance_type=None,\n",
       "              interaction_constraints=None, learning_rate=0.0337716365315986,\n",
       "              max_bin=None, max_cat_threshold=None, max_cat_to_onehot=None,\n",
       "              max_delta_step=None, max_depth=9, max_leaves=None,\n",
       "              min_child_weight=8, missing=nan, monotone_constraints=None,\n",
       "              multi_strategy=None, n_estimators=733, n_jobs=None,\n",
       "              num_parallel_tree=None, objective=&#x27;multi:softprob&#x27;, ...)</pre></div></div></div></div></div></div></div></div></div></div>"
      ],
      "text/plain": [
       "VotingClassifier(estimators=[('lgb', LGBMClassifier(random_state=42)),\n",
       "                             ('XGB',\n",
       "                              XGBClassifier(base_score=None, booster=None,\n",
       "                                            callbacks=None,\n",
       "                                            colsample_bylevel=None,\n",
       "                                            colsample_bynode=None,\n",
       "                                            colsample_bytree=0.1234702658812108,\n",
       "                                            device=None,\n",
       "                                            early_stopping_rounds=None,\n",
       "                                            enable_categorical=False,\n",
       "                                            eval_metric=None,\n",
       "                                            feature_types=None, gamma=None,\n",
       "                                            grow_policy=None,\n",
       "                                            importa...\n",
       "                                            interaction_constraints=None,\n",
       "                                            learning_rate=0.0337716365315986,\n",
       "                                            max_bin=None,\n",
       "                                            max_cat_threshold=None,\n",
       "                                            max_cat_to_onehot=None,\n",
       "                                            max_delta_step=None, max_depth=9,\n",
       "                                            max_leaves=None, min_child_weight=8,\n",
       "                                            missing=nan,\n",
       "                                            monotone_constraints=None,\n",
       "                                            multi_strategy=None,\n",
       "                                            n_estimators=733, n_jobs=None,\n",
       "                                            num_parallel_tree=None,\n",
       "                                            objective='multi:softprob', ...))],\n",
       "                 voting='soft', weights=[1, 0.8])"
      ]
     },
     "execution_count": 31,
     "metadata": {},
     "output_type": "execute_result"
    }
   ],
   "source": [
    "from sklearn.ensemble import VotingClassifier\n",
    "\n",
    "Ensemble = VotingClassifier(estimators = [('lgb', lgb_model), ('XGB', XGB)], \n",
    "                            voting='soft',\n",
    "                            weights = [1, 0.8]  \n",
    "                           )\n",
    "\n",
    "Ensemble.fit(X, y)"
   ]
  },
  {
   "cell_type": "code",
   "execution_count": 32,
   "id": "6cbff58c",
   "metadata": {
    "execution": {
     "iopub.execute_input": "2023-12-31T14:36:56.523729Z",
     "iopub.status.busy": "2023-12-31T14:36:56.522929Z",
     "iopub.status.idle": "2023-12-31T14:36:57.135180Z",
     "shell.execute_reply": "2023-12-31T14:36:57.134116Z"
    },
    "papermill": {
     "duration": 0.666301,
     "end_time": "2023-12-31T14:36:57.137681",
     "exception": false,
     "start_time": "2023-12-31T14:36:56.471380",
     "status": "completed"
    },
    "tags": []
   },
   "outputs": [],
   "source": [
    "preds = Ensemble.predict_proba(X_test)\n",
    "preds = pd.DataFrame(preds, columns = ['C', 'CL', 'D'])"
   ]
  },
  {
   "cell_type": "code",
   "execution_count": 33,
   "id": "fa33774d",
   "metadata": {
    "execution": {
     "iopub.execute_input": "2023-12-31T14:36:57.240471Z",
     "iopub.status.busy": "2023-12-31T14:36:57.240003Z",
     "iopub.status.idle": "2023-12-31T14:36:57.296981Z",
     "shell.execute_reply": "2023-12-31T14:36:57.296137Z"
    },
    "papermill": {
     "duration": 0.111491,
     "end_time": "2023-12-31T14:36:57.299571",
     "exception": false,
     "start_time": "2023-12-31T14:36:57.188080",
     "status": "completed"
    },
    "tags": []
   },
   "outputs": [],
   "source": [
    "sample_sub['Status_C'] = preds['C']\n",
    "sample_sub['Status_CL'] = preds['CL']\n",
    "sample_sub['Status_D'] = preds['D']\n",
    "sample_sub.to_csv('submission.csv', index = False)"
   ]
  },
  {
   "cell_type": "code",
   "execution_count": 34,
   "id": "fac7a36b",
   "metadata": {
    "execution": {
     "iopub.execute_input": "2023-12-31T14:36:57.402644Z",
     "iopub.status.busy": "2023-12-31T14:36:57.402213Z",
     "iopub.status.idle": "2023-12-31T14:36:57.419166Z",
     "shell.execute_reply": "2023-12-31T14:36:57.417958Z"
    },
    "papermill": {
     "duration": 0.07171,
     "end_time": "2023-12-31T14:36:57.421653",
     "exception": false,
     "start_time": "2023-12-31T14:36:57.349943",
     "status": "completed"
    },
    "tags": []
   },
   "outputs": [
    {
     "data": {
      "text/html": [
       "<div>\n",
       "<style scoped>\n",
       "    .dataframe tbody tr th:only-of-type {\n",
       "        vertical-align: middle;\n",
       "    }\n",
       "\n",
       "    .dataframe tbody tr th {\n",
       "        vertical-align: top;\n",
       "    }\n",
       "\n",
       "    .dataframe thead th {\n",
       "        text-align: right;\n",
       "    }\n",
       "</style>\n",
       "<table border=\"1\" class=\"dataframe\">\n",
       "  <thead>\n",
       "    <tr style=\"text-align: right;\">\n",
       "      <th></th>\n",
       "      <th>id</th>\n",
       "      <th>Status_C</th>\n",
       "      <th>Status_CL</th>\n",
       "      <th>Status_D</th>\n",
       "    </tr>\n",
       "  </thead>\n",
       "  <tbody>\n",
       "    <tr>\n",
       "      <th>0</th>\n",
       "      <td>7905</td>\n",
       "      <td>0.443068</td>\n",
       "      <td>0.021039</td>\n",
       "      <td>0.535893</td>\n",
       "    </tr>\n",
       "    <tr>\n",
       "      <th>1</th>\n",
       "      <td>7906</td>\n",
       "      <td>0.479450</td>\n",
       "      <td>0.232017</td>\n",
       "      <td>0.288533</td>\n",
       "    </tr>\n",
       "    <tr>\n",
       "      <th>2</th>\n",
       "      <td>7907</td>\n",
       "      <td>0.033044</td>\n",
       "      <td>0.009272</td>\n",
       "      <td>0.957685</td>\n",
       "    </tr>\n",
       "    <tr>\n",
       "      <th>3</th>\n",
       "      <td>7908</td>\n",
       "      <td>0.966016</td>\n",
       "      <td>0.002111</td>\n",
       "      <td>0.031874</td>\n",
       "    </tr>\n",
       "    <tr>\n",
       "      <th>4</th>\n",
       "      <td>7909</td>\n",
       "      <td>0.880197</td>\n",
       "      <td>0.037847</td>\n",
       "      <td>0.081955</td>\n",
       "    </tr>\n",
       "    <tr>\n",
       "      <th>...</th>\n",
       "      <td>...</td>\n",
       "      <td>...</td>\n",
       "      <td>...</td>\n",
       "      <td>...</td>\n",
       "    </tr>\n",
       "    <tr>\n",
       "      <th>5266</th>\n",
       "      <td>13171</td>\n",
       "      <td>0.885164</td>\n",
       "      <td>0.081250</td>\n",
       "      <td>0.033586</td>\n",
       "    </tr>\n",
       "    <tr>\n",
       "      <th>5267</th>\n",
       "      <td>13172</td>\n",
       "      <td>0.974680</td>\n",
       "      <td>0.004895</td>\n",
       "      <td>0.020425</td>\n",
       "    </tr>\n",
       "    <tr>\n",
       "      <th>5268</th>\n",
       "      <td>13173</td>\n",
       "      <td>0.912855</td>\n",
       "      <td>0.008375</td>\n",
       "      <td>0.078770</td>\n",
       "    </tr>\n",
       "    <tr>\n",
       "      <th>5269</th>\n",
       "      <td>13174</td>\n",
       "      <td>0.980829</td>\n",
       "      <td>0.002864</td>\n",
       "      <td>0.016308</td>\n",
       "    </tr>\n",
       "    <tr>\n",
       "      <th>5270</th>\n",
       "      <td>13175</td>\n",
       "      <td>0.315139</td>\n",
       "      <td>0.014907</td>\n",
       "      <td>0.669954</td>\n",
       "    </tr>\n",
       "  </tbody>\n",
       "</table>\n",
       "<p>5271 rows × 4 columns</p>\n",
       "</div>"
      ],
      "text/plain": [
       "         id  Status_C  Status_CL  Status_D\n",
       "0      7905  0.443068   0.021039  0.535893\n",
       "1      7906  0.479450   0.232017  0.288533\n",
       "2      7907  0.033044   0.009272  0.957685\n",
       "3      7908  0.966016   0.002111  0.031874\n",
       "4      7909  0.880197   0.037847  0.081955\n",
       "...     ...       ...        ...       ...\n",
       "5266  13171  0.885164   0.081250  0.033586\n",
       "5267  13172  0.974680   0.004895  0.020425\n",
       "5268  13173  0.912855   0.008375  0.078770\n",
       "5269  13174  0.980829   0.002864  0.016308\n",
       "5270  13175  0.315139   0.014907  0.669954\n",
       "\n",
       "[5271 rows x 4 columns]"
      ]
     },
     "execution_count": 34,
     "metadata": {},
     "output_type": "execute_result"
    }
   ],
   "source": [
    "sample_sub"
   ]
  },
  {
   "cell_type": "code",
   "execution_count": null,
   "id": "ce225135",
   "metadata": {
    "papermill": {
     "duration": 0.050576,
     "end_time": "2023-12-31T14:36:57.522382",
     "exception": false,
     "start_time": "2023-12-31T14:36:57.471806",
     "status": "completed"
    },
    "tags": []
   },
   "outputs": [],
   "source": []
  }
 ],
 "metadata": {
  "kaggle": {
   "accelerator": "none",
   "dataSources": [
    {
     "databundleVersionId": 7000181,
     "sourceId": 60893,
     "sourceType": "competition"
    },
    {
     "datasetId": 3873965,
     "sourceId": 6724823,
     "sourceType": "datasetVersion"
    }
   ],
   "dockerImageVersionId": 30615,
   "isGpuEnabled": false,
   "isInternetEnabled": true,
   "language": "python",
   "sourceType": "notebook"
  },
  "kernelspec": {
   "display_name": "Python 3",
   "language": "python",
   "name": "python3"
  },
  "language_info": {
   "codemirror_mode": {
    "name": "ipython",
    "version": 3
   },
   "file_extension": ".py",
   "mimetype": "text/x-python",
   "name": "python",
   "nbconvert_exporter": "python",
   "pygments_lexer": "ipython3",
   "version": "3.10.12"
  },
  "papermill": {
   "default_parameters": {},
   "duration": 221.978252,
   "end_time": "2023-12-31T14:36:58.395702",
   "environment_variables": {},
   "exception": null,
   "input_path": "__notebook__.ipynb",
   "output_path": "__notebook__.ipynb",
   "parameters": {},
   "start_time": "2023-12-31T14:33:16.417450",
   "version": "2.4.0"
  }
 },
 "nbformat": 4,
 "nbformat_minor": 5
}
